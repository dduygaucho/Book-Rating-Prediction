{
  "cells": [
    {
      "cell_type": "code",
      "execution_count": null,
      "metadata": {
        "colab": {
          "base_uri": "https://localhost:8080/"
        },
        "id": "OyCK67D5tJWa",
        "outputId": "fc333599-4e75-47b1-bf34-1129670450cd"
      },
      "outputs": [
        {
          "output_type": "stream",
          "name": "stdout",
          "text": [
            "Mounted at /content/drive\n",
            "/content/drive/My Drive/Bookpred/Assignment 2\n",
            " 8.prep_IMDB.ipynb\n",
            "'Assignment 2 Track.gdoc'\n",
            " bert\n",
            " best_model\n",
            " book_rating_test.csv\n",
            " book_rating_train.csv\n",
            " book_text_features_countvec\n",
            " book_text_features_doc2vec\n",
            " book_text_features_tfidf\n",
            " COMP30027_Project2_spec_2023S1.pdf\n",
            "'Copy of model.png'\n",
            " English\n",
            "'English (1)'\n",
            "'Feature engineering.ipynb'\n",
            " full_dataset\n",
            " history.pkl\n",
            " history_v.pkl\n",
            " lgbm_class_weight.joblib\n",
            " lgbm_normal.joblib\n",
            " lgbm_oversampling.joblib\n",
            " matrix.npz\n",
            " Model.ipynb\n",
            " model.png\n",
            " multilingual_best\n",
            " multilingual_epochs\n",
            " output.csv\n",
            " Oversampling\n",
            " Oversampling_real\n",
            " partition\n",
            " random_forest_doc.joblib\n",
            " random_forest.joblib\n",
            " random_forest_num.joblib\n",
            " rf_cw.joblib\n",
            " rf_normal.joblib\n",
            " rf_smote.joblib\n",
            " small_bert\n",
            " smallbert_class_weight.png\n",
            " smallbert_focal.png\n",
            " smallbert_normal.png\n",
            " smallbert_oversampling_minority.png\n",
            " Test\n",
            " test_focal.npy\n",
            " text_features_description.ipynb\n",
            " train_ind.pkl\n",
            " Validation\n",
            " val_ind.pkl\n",
            " val_output_smallbert_class_weights.pkl\n",
            " val_output_smallbert_cw.pkl\n",
            " val_output_smallbert_focal.pkl\n",
            " val_output_smallbert_normal.pkl\n",
            " val_output_smallbert_oversampling.pkl\n",
            " val_prediction_smallbert_class_weights.pkl\n",
            " val_prediction_smallbert_cw.pkl\n",
            " val_prediction_smallbert_focal.pkl\n",
            " val_prediction_smallbert_normal.pkl\n",
            " val_prediction_smallbert_oversampling.pkl\n",
            " xgb_model_doc.pkl\n",
            " xgb_model.pkl\n",
            " X_res.npz\n",
            " y_pred_best_multilingual.txt\n",
            " y_pred_best.txt\n",
            " y_pred_pretrain1.txt\n",
            " y_pred_test_smallbert_classweight.txt\n",
            " y_pred_test_smallbert.txt\n",
            " y_pred_val_multilingual.txt\n",
            " y_pred_val_smallbert_classweight.txt\n",
            " y_pred_val.txt\n",
            " y_res.csv\n"
          ]
        }
      ],
      "source": [
        "from google.colab import drive \n",
        "import os\n",
        "drive.mount('/content/drive')\n",
        "path = \"/content/drive/My Drive/Bookpred/Assignment 2\"\n",
        "%cd {path}\n",
        "!ls"
      ],
      "id": "OyCK67D5tJWa"
    },
    {
      "cell_type": "code",
      "execution_count": null,
      "metadata": {
        "id": "df2c77b1"
      },
      "outputs": [],
      "source": [
        "import numpy as np\n",
        "import pandas as pd\n",
        "import sklearn\n",
        "import tensorflow as tf\n",
        "import scipy\n",
        "from matplotlib import pyplot as plt\n",
        "import joblib\n",
        "from sklearn.ensemble import RandomForestClassifier\n",
        "from sklearn.model_selection import train_test_split\n",
        "import xgboost\n",
        "from sklearn.decomposition import PCA"
      ],
      "id": "df2c77b1"
    },
    {
      "cell_type": "markdown",
      "source": [
        "This notebook partially adopts certain code blocks from ChatGPT for visualization, model saving, loading, ... However, the core ideads are original"
      ],
      "metadata": {
        "id": "jMBldNLFrOJi"
      },
      "id": "jMBldNLFrOJi"
    },
    {
      "cell_type": "markdown",
      "source": [
        "only run the LGBM part for grid-search cross validaiton with no other purposes, can go straight to LGBM part to see the tuned parameters"
      ],
      "metadata": {
        "id": "-yKw_UUoK8ZA"
      },
      "id": "-yKw_UUoK8ZA"
    },
    {
      "cell_type": "markdown",
      "metadata": {
        "id": "7c0ce09a"
      },
      "source": [
        "# Data preparation"
      ],
      "id": "7c0ce09a"
    },
    {
      "cell_type": "markdown",
      "metadata": {
        "id": "-oAi54kqDbJM"
      },
      "source": [
        "## Data wrangling"
      ],
      "id": "-oAi54kqDbJM"
    },
    {
      "cell_type": "code",
      "execution_count": null,
      "metadata": {
        "colab": {
          "base_uri": "https://localhost:8080/"
        },
        "id": "8-yZPnfNDdHe",
        "outputId": "2312e507-ae80-4a0c-ab0a-b5deeeb3d266"
      },
      "outputs": [
        {
          "output_type": "stream",
          "name": "stdout",
          "text": [
            "(23063, 2)\n",
            "(5766, 2)\n"
          ]
        }
      ],
      "source": [
        "# Norm + impute\n",
        "\n",
        "train_df_orig = pd.read_csv(\"book_rating_train.csv\")\n",
        "test_df_orig = pd.read_csv(\"book_rating_test.csv\")\n",
        "\n",
        "from sklearn.compose import ColumnTransformer\n",
        "from sklearn.pipeline import Pipeline\n",
        "from sklearn.preprocessing import StandardScaler, OneHotEncoder\n",
        "from sklearn.impute import SimpleImputer\n",
        "\n",
        "num_pipeline = Pipeline([\n",
        "        ('imputer', SimpleImputer(strategy=\"median\")),\n",
        "        ('std_scaler', StandardScaler()),\n",
        "    ])\n",
        "cat_attribs = ['Publisher', 'PublishDay']\n",
        "num_attribs = [\"pagesNumber\", \"PublishYear\"]\n",
        "\n",
        "full_pipeline = ColumnTransformer([\n",
        "        (\"num\", num_pipeline, num_attribs),\n",
        "        (\"cat\", OneHotEncoder(handle_unknown='ignore'), cat_attribs)\n",
        "    ], remainder = 'drop')\n",
        "\n",
        "num_df = full_pipeline.fit_transform(train_df_orig)\n",
        "print(num_df.shape)\n",
        "\n",
        "num_df_test = full_pipeline.transform(test_df_orig)\n",
        "print(num_df_test.shape)"
      ],
      "id": "8-yZPnfNDdHe"
    },
    {
      "cell_type": "markdown",
      "source": [
        "train_df_orig[train_df_orig['Publisher'] == 'Penguin Classics']"
      ],
      "metadata": {
        "id": "mq_syK5wfE-a"
      },
      "id": "mq_syK5wfE-a"
    },
    {
      "cell_type": "markdown",
      "metadata": {
        "id": "d25161c9"
      },
      "source": [
        "## Vectorizer"
      ],
      "id": "d25161c9"
    },
    {
      "cell_type": "code",
      "execution_count": null,
      "metadata": {
        "colab": {
          "base_uri": "https://localhost:8080/"
        },
        "id": "39a29f3b",
        "outputId": "e0c1b969-1d09-4503-f53d-4c544f19a65f"
      },
      "outputs": [
        {
          "output_type": "stream",
          "name": "stdout",
          "text": [
            "(23063, 17317)\n",
            "(23063, 13000)\n",
            "(23063, 105407)\n",
            "(5766, 17317)\n",
            "(5766, 13000)\n",
            "(5766, 105407)\n"
          ]
        }
      ],
      "source": [
        "# method  = ['countvec', 'tfidf', 'doc2vec]\n",
        "def convert_npz(method):\n",
        "  test_name = scipy.sparse.load_npz(f'./book_text_features_{method}/test_name_vec.npz')\n",
        "  test_authors = scipy.sparse.load_npz(f'./book_text_features_{method}/test_authors_vec.npz')\n",
        "  test_desc = scipy.sparse.load_npz(f'./book_text_features_{method}/test_desc_vec.npz')\n",
        "\n",
        "  train_name = scipy.sparse.load_npz(f'./book_text_features_{method}/train_name_vec.npz')\n",
        "  train_authors = scipy.sparse.load_npz(f'./book_text_features_{method}/train_authors_vec.npz')\n",
        "  train_desc = scipy.sparse.load_npz(f'./book_text_features_{method}/train_desc_vec.npz')\n",
        "\n",
        "  return test_name, test_authors, test_desc, train_name, train_authors, train_desc\n",
        "\n",
        "test_name, test_authors, test_desc, train_name, train_authors, train_desc = convert_npz(method = 'tfidf') \n",
        "    \n",
        "print(train_name.shape)\n",
        "print(train_authors.shape)\n",
        "print(train_desc.shape)\n",
        "\n",
        "print(test_name.shape)\n",
        "print(test_authors.shape)\n",
        "print(test_desc.shape)"
      ],
      "id": "39a29f3b"
    },
    {
      "cell_type": "code",
      "source": [
        "# from sklearn.feature_selection import chi2, mutual_info_classif\n",
        "\n",
        "# def feature_selection(train_data, test_data, threshold = 0.1):\n",
        "#   chi_scores, p_values = chi2(train_data, train_df_orig['rating_label'])\n",
        "\n",
        "\n",
        "#   # use the selector to transform the training and test data\n",
        "#   chi_scores_df = pd.DataFrame({'chi_score': chi_scores, 'p_value': p_values})\n",
        "#   significant_chi_scores = chi_scores_df[chi_scores_df['p_value'] < threshold]\n",
        "\n",
        "#   train = train_data[:, significant_chi_scores.index]\n",
        "#   test = test_data[:, significant_chi_scores.index]\n",
        "\n",
        "#   return train, test\n",
        "\n",
        "# train_name, test_name = feature_selection(train_name, test_name)\n",
        "# train_desc, test_desc = feature_selection(train_desc, test_desc)\n",
        "# train_authors, test_authors = feature_selection(train_authors, test_authors)\n",
        "\n",
        "\n",
        "# print(train_name.shape, test_name.shape)\n",
        "\n",
        "# print(train_authors.shape, test_authors.shape)\n",
        "# print(train_desc.shape, test_desc.shape)\n"
      ],
      "metadata": {
        "colab": {
          "base_uri": "https://localhost:8080/"
        },
        "id": "-T_oEQ61vTVK",
        "outputId": "e0957e2f-650e-423e-d881-637a2ebfae06"
      },
      "id": "-T_oEQ61vTVK",
      "execution_count": null,
      "outputs": [
        {
          "output_type": "stream",
          "name": "stdout",
          "text": [
            "(23063, 1139) (5766, 1139)\n",
            "(23063, 1049) (5766, 1049)\n",
            "(23063, 1057) (5766, 1057)\n"
          ]
        }
      ]
    },
    {
      "cell_type": "markdown",
      "source": [],
      "metadata": {
        "id": "o3twWS7PuFOf"
      },
      "id": "o3twWS7PuFOf"
    },
    {
      "cell_type": "code",
      "execution_count": null,
      "metadata": {
        "colab": {
          "base_uri": "https://localhost:8080/"
        },
        "id": "j6EjUo5BDiOd",
        "outputId": "cca189f7-cabe-4f3a-97de-125819988c96"
      },
      "outputs": [
        {
          "output_type": "stream",
          "name": "stdout",
          "text": [
            "18452\n",
            "4611\n"
          ]
        }
      ],
      "source": [
        "import pickle\n",
        "\n",
        "# load the list from the pickle file\n",
        "with open('train_ind.pkl', 'rb') as f:\n",
        "    train_ind = pickle.load(f)\n",
        "\n",
        "\n",
        "\n",
        "# load the list from the pickle file\n",
        "with open('val_ind.pkl', 'rb') as f:\n",
        "    val_ind = pickle.load(f)\n",
        "print(len(train_ind))  \n",
        "print(len(val_ind))"
      ],
      "id": "j6EjUo5BDiOd"
    },
    {
      "cell_type": "code",
      "execution_count": null,
      "metadata": {
        "colab": {
          "base_uri": "https://localhost:8080/"
        },
        "id": "9adc24f0",
        "outputId": "0beb302f-9849-47ef-ce23-c79145702088"
      },
      "outputs": [
        {
          "output_type": "stream",
          "name": "stdout",
          "text": [
            "(23063, 135726)\n",
            "(5766, 135726)\n"
          ]
        }
      ],
      "source": [
        "from scipy.sparse import hstack\n",
        "from sklearn.decomposition import TruncatedSVD\n",
        "\n",
        "\n",
        "def create_dataset(train_name, test_name, train_authors, test_authors, \n",
        "                   train_desc, test_desc, num_df, num_df_test,\n",
        "                   dimension_reduce = False, numerical = False, index = False):\n",
        "  if numerical and not index:\n",
        "    train_df = hstack((num_df, train_name, train_authors, train_desc))\n",
        "    test_df = hstack((num_df_test, test_name, test_authors, test_desc))\n",
        "\n",
        "  elif numerical and index:\n",
        "    # print(\"HI\")\n",
        "    # print(num_df[train_ind, :].shape)\n",
        "    train_df = hstack((num_df[train_ind, :], train_name, train_authors, train_desc))\n",
        "    test_df = hstack((num_df[val_ind, :], test_name, test_authors, test_desc))\n",
        "    \n",
        "\n",
        "  else:\n",
        "    train_df = hstack((train_name, train_authors, train_desc))\n",
        "    test_df = hstack((test_name, test_authors, test_desc))\n",
        "\n",
        "\n",
        "\n",
        "\n",
        "  # if dimension_reduce:\n",
        "  #     # Create a TruncatedSVD object \n",
        "  #   svd = TruncatedSVD(100000)\n",
        "  #   svd.fit(train_df)\n",
        "  #   # print(svd.explained_variance_ratio_)\n",
        "  #   cumsum = np.cumsum(svd.explained_variance_ratio_)\n",
        "  #   # print(cumsum)\n",
        "  #   dim = np.argmax(cumsum >= 0.95) + 1\n",
        "\n",
        "\n",
        "  return train_df, test_df\n",
        "\n",
        "\n",
        "train_df, test_df = create_dataset(train_name, test_name, train_authors, test_authors, \n",
        "                   train_desc, test_desc, num_df, num_df_test,\n",
        "                   dimension_reduce = False, numerical = True)\n",
        "\n",
        "print(train_df.shape)\n",
        "print(test_df.shape)"
      ],
      "id": "9adc24f0"
    },
    {
      "cell_type": "code",
      "execution_count": null,
      "metadata": {
        "colab": {
          "base_uri": "https://localhost:8080/"
        },
        "id": "pxaC2JcH4Mte",
        "outputId": "c8614978-0acb-4ac9-c40e-ef8efafac1d9"
      },
      "outputs": [
        {
          "output_type": "stream",
          "name": "stdout",
          "text": [
            "(18452, 15296)\n",
            "(18452, 11342)\n",
            "(18452, 90674)\n",
            "(4611, 15296)\n",
            "(4611, 11342)\n",
            "(4611, 90674)\n",
            "(18452, 117314)\n",
            "(18452, 117314)\n",
            "(4611, 117314)\n"
          ]
        }
      ],
      "source": [
        "def convert_npz_train_val():\n",
        "  val_name = scipy.sparse.load_npz(f'./partition/val/val_name_vec.npz')\n",
        "  val_authors = scipy.sparse.load_npz(f'./partition/val/val_authors_vec.npz')\n",
        "  val_desc = scipy.sparse.load_npz(f'./partition/val/val_desc_vec.npz')\n",
        "\n",
        "  train_name = scipy.sparse.load_npz(f'./partition/train/train_name_vec.npz')\n",
        "  train_authors = scipy.sparse.load_npz(f'./partition/train/train_authors_vec.npz')\n",
        "  train_desc = scipy.sparse.load_npz(f'./partition/train/train_desc_vec.npz')\n",
        "\n",
        "  return val_name, val_authors, val_desc, train_name, train_authors, train_desc\n",
        "\n",
        "val_name, val_authors, val_desc, train_name, train_authors, train_desc = convert_npz_train_val() \n",
        "print(train_name.shape)\n",
        "print(train_authors.shape)\n",
        "print(train_desc.shape)\n",
        "\n",
        "print(val_name.shape)\n",
        "print(val_authors.shape)\n",
        "print(val_desc.shape)\n",
        "\n",
        "\n",
        "train, val = create_dataset(train_name, val_name, train_authors, val_authors, \n",
        "                   train_desc, val_desc, num_df, num_df_test,\n",
        "                   dimension_reduce = False, numerical = True, index = True)\n",
        "\n",
        "print(train.shape)\n",
        "print(val.shape)"
      ],
      "id": "pxaC2JcH4Mte"
    },
    {
      "cell_type": "markdown",
      "metadata": {
        "id": "myF4psPIJZbr"
      },
      "source": [
        "### Random Forest Classifier"
      ],
      "id": "myF4psPIJZbr"
    },
    {
      "cell_type": "code",
      "execution_count": null,
      "metadata": {
        "colab": {
          "base_uri": "https://localhost:8080/"
        },
        "id": "bf7ebaf4",
        "outputId": "4023a7ed-96bd-4911-b4c4-d325f3dadf41"
      },
      "outputs": [
        {
          "name": "stderr",
          "output_type": "stream",
          "text": [
            "/usr/local/lib/python3.10/dist-packages/sklearn/ensemble/_forest.py:424: FutureWarning: `max_features='auto'` has been deprecated in 1.1 and will be removed in 1.3. To keep the past behaviour, explicitly set `max_features='sqrt'` or remove this parameter as it is also the default value for RandomForestClassifiers and ExtraTreesClassifiers.\n",
            "  warn(\n"
          ]
        },
        {
          "name": "stdout",
          "output_type": "stream",
          "text": [
            "Best parameters:  {'max_depth': None, 'max_features': 'auto', 'min_samples_leaf': 1, 'min_samples_split': 3, 'n_estimators': 100}\n",
            "Best score:  0.7100116962714633\n"
          ]
        }
      ],
      "source": [
        "import joblib\n",
        "from scipy.stats import randint\n",
        "from sklearn.model_selection import RandomizedSearchCV\n",
        "\n",
        "# method  = ['countvec', 'tfidf', 'doc2vec]\n",
        "\n",
        "def experiment_rf(method, numerical, dimension_reduce, cross_val = False, training = True):\n",
        "  os.makedirs(\"./full_dataset\")\n",
        "  rfc = RandomForestClassifier(n_estimators=100, random_state=42)\n",
        "  if training:\n",
        "    if cross_val:\n",
        "      # Define parameter distributions\n",
        "      param_dist = {'n_estimators': [50, 100, 200, 500],\n",
        "                    'max_features': ['auto', 'sqrt', 'log2'],\n",
        "                    'max_depth': [None] + list(range(5, 30, 10)),\n",
        "                    'min_samples_split': randint(2, 10),\n",
        "                    'min_samples_leaf': randint(1, 10)}\n",
        "\n",
        "      # Instantiate RandomForestClassifier object\n",
        "      rfc = RandomForestClassifier(random_state=42)\n",
        "\n",
        "      # Instantiate RandomizedSearchCV object\n",
        "      rfc_rs = RandomizedSearchCV(rfc, param_distributions=param_dist, n_iter=50, cv=5, n_jobs=-1, random_state=42)\n",
        "\n",
        "      # Fit RandomizedSearchCV object to training data\n",
        "      rfc_rs.fit(train_df, train_df_orig['rating_label'])\n",
        "\n",
        "      # Print best parameters and score from RandomizedSearchCV\n",
        "      print(\"Best parameters: \", rfc_rs.best_params_)\n",
        "      print(\"Best score: \", rfc_rs.best_score_)\n",
        "\n",
        "      # Get best model and its score\n",
        "      best_rfc = rfc_rs.best_estimator_\n",
        "      best_rfc_score = rfc_rs.best_score_\n",
        "\n",
        "      rfc = best_rfc\n",
        "      joblib.dump(rfc, f\"./full_dataset/rf_cv.joblib\")\n",
        "    else:\n",
        "      rfc.fit(train_df, train_df_orig['rating_label'])\n",
        "      joblib.dump(rfc, f\"./full_dataset/rf.joblib\")\n",
        "  else:\n",
        "    rfc = joblib.load(f\"./full_dataset/rf.joblib\")\n",
        "\n",
        "  return rfc\n",
        "\n",
        "\n",
        "rfc = experiment_rf(method = 'tfidf', numerical = True, dimension_reduce = False, training = True, cross_val = True)\n"
      ],
      "id": "bf7ebaf4"
    },
    {
      "cell_type": "code",
      "source": [
        "train_df.shape"
      ],
      "metadata": {
        "colab": {
          "base_uri": "https://localhost:8080/"
        },
        "id": "bGN_GmX2leSR",
        "outputId": "5897e73d-d015-43d4-96cc-785376cb3b24"
      },
      "id": "bGN_GmX2leSR",
      "execution_count": null,
      "outputs": [
        {
          "output_type": "execute_result",
          "data": {
            "text/plain": [
              "(23063, 135726)"
            ]
          },
          "metadata": {},
          "execution_count": 6
        }
      ]
    },
    {
      "cell_type": "code",
      "source": [
        "# Full dataset\n",
        "def experiment_rf(method, numerical, dimension_reduce, cross_val = False, training = True):\n",
        "  os.makedirs(\"./full_dataset\", exist_ok = True)\n",
        "  rfc = RandomForestClassifier(n_estimators=100, random_state=42)\n",
        "  if training:\n",
        "    if cross_val:\n",
        "      # Define parameter distributions\n",
        "      param_dist = {'n_estimators': [50, 100, 200, 500],\n",
        "                    'max_features': ['auto', 'sqrt', 'log2'],\n",
        "                    'max_depth': [None] + list(range(5, 30, 10)),\n",
        "                    'min_samples_split': randint(2, 10),\n",
        "                    'min_samples_leaf': randint(1, 10)}\n",
        "\n",
        "      # Instantiate RandomForestClassifier object\n",
        "      rfc = RandomForestClassifier(random_state=42)\n",
        "\n",
        "      # Instantiate RandomizedSearchCV object\n",
        "      rfc_rs = RandomizedSearchCV(rfc, param_distributions=param_dist, n_iter=50, cv=5, n_jobs=-1, random_state=42)\n",
        "\n",
        "      # Fit RandomizedSearchCV object to training data\n",
        "      rfc_rs.fit(train_df, train_df_orig['rating_label'])\n",
        "\n",
        "      # Print best parameters and score from RandomizedSearchCV\n",
        "      print(\"Best parameters: \", rfc_rs.best_params_)\n",
        "      print(\"Best score: \", rfc_rs.best_score_)\n",
        "\n",
        "      # Get best model and its score\n",
        "      best_rfc = rfc_rs.best_estimator_\n",
        "      best_rfc_score = rfc_rs.best_score_\n",
        "\n",
        "      rfc = best_rfc\n",
        "      joblib.dump(rfc, f\"./full_dataset/rf_cv.joblib\")\n",
        "    else:\n",
        "      rfc.fit(train_df, train_df_orig['rating_label'])\n",
        "      joblib.dump(rfc, f\"./full_dataset/rf.joblib\")\n",
        "  else:\n",
        "    rfc = joblib.load(f\"./full_dataset/rf.joblib\")\n",
        "\n",
        "  return rfc\n",
        "\n",
        "rfc = experiment_rf('tfidf', numerical = True, dimension_reduce = False, cross_val = False, training = True)"
      ],
      "metadata": {
        "id": "BgDMg4l8Xy3I"
      },
      "id": "BgDMg4l8Xy3I",
      "execution_count": null,
      "outputs": []
    },
    {
      "cell_type": "code",
      "execution_count": null,
      "metadata": {
        "id": "b812732c",
        "colab": {
          "base_uri": "https://localhost:8080/"
        },
        "outputId": "f5740f3b-4754-457c-f62e-1907913f2ead"
      },
      "outputs": [
        {
          "output_type": "stream",
          "name": "stdout",
          "text": [
            "[3. 4. 5.]\n",
            "4.0    5682\n",
            "3.0      68\n",
            "5.0      16\n",
            "dtype: int64\n"
          ]
        },
        {
          "output_type": "execute_result",
          "data": {
            "text/plain": [
              "array([4., 4., 4., ..., 4., 4., 4.])"
            ]
          },
          "metadata": {},
          "execution_count": 14
        }
      ],
      "source": [
        "import csv\n",
        "\n",
        "def evaluate(classifier, test_df = test_df, label_encoder = None, write_csv = True):\n",
        "  y_pred = classifier.predict(test_df)\n",
        "  if label_encoder:\n",
        "    y_pred = classifier.predict(test_df)\n",
        "    y_pred = label_encoder.inverse_transform(y_pred)\n",
        "  def info(y_pred):\n",
        "    print(np.unique(y_pred))\n",
        "    print(pd.DataFrame(y_pred).value_counts())\n",
        "\n",
        "  if write_csv: \n",
        "    # write in the csv file\n",
        "    with open('output.csv', 'w', newline='') as csvfile:\n",
        "        writer = csv.writer(csvfile)\n",
        "        writer.writerow(['id', 'rating_label'])\n",
        "        for i, rating in enumerate(y_pred):\n",
        "            writer.writerow([i+1, rating])\n",
        "\n",
        "  info(y_pred)\n",
        "  return y_pred\n",
        "  \n",
        "\n",
        "evaluate(rfc, write_csv = True)"
      ],
      "id": "b812732c"
    },
    {
      "cell_type": "markdown",
      "source": [
        "# LGBM"
      ],
      "metadata": {
        "id": "RyuhJIYgjZ8y"
      },
      "id": "RyuhJIYgjZ8y"
    },
    {
      "cell_type": "code",
      "execution_count": null,
      "metadata": {
        "id": "pncY0BLJ9HGj",
        "colab": {
          "base_uri": "https://localhost:8080/"
        },
        "outputId": "bea20039-7f19-42a0-a154-eec14d814ee6"
      },
      "outputs": [
        {
          "output_type": "stream",
          "name": "stdout",
          "text": [
            "Best parameters:  {'num_leaves': 31, 'n_estimators': 500, 'min_child_samples': 20, 'max_depth': 8, 'learning_rate': 0.05}\n",
            "Best score:  0.7144777034772389\n"
          ]
        }
      ],
      "source": [
        "import joblib\n",
        "from scipy.stats import randint\n",
        "from sklearn.model_selection import RandomizedSearchCV\n",
        "\n",
        "# method  = ['countvec', 'tfidf', 'doc2vec]\n",
        "\n",
        "def experiment_lgbm(method, numerical, dimension_reduce, train_df, train_df_orig, cross_val = False, training = True, notes = \"\"):\n",
        "  from lightgbm import LGBMClassifier\n",
        "\n",
        "  lgbm = LGBMClassifier(random_state = 42)\n",
        "  if training:\n",
        "    if cross_val:\n",
        "      # Define parameter distributions\n",
        "      param_dist = {'n_estimators': [100, 200, 500],\n",
        "                    'learning_rate': [0.01, 0.05, 0.1],\n",
        "                    'max_depth': [-1,3,6,8],\n",
        "                    'num_leaves': [20,31,50],\n",
        "                    'min_child_samples': [20,50,80]}\n",
        "\n",
        "      # Instantiate RandomForestClassifier object\n",
        "      lgbm = LGBMClassifier(random_state = 42)\n",
        "\n",
        "\n",
        "      # Instantiate RandomizedSearchCV object\n",
        "      lgbm_rs = RandomizedSearchCV(lgbm, param_distributions=param_dist, cv=5, n_jobs=-1, random_state=42)\n",
        "\n",
        "      # Fit RandomizedSearchCV object to training data\n",
        "      lgbm_rs.fit(train_df, train_df_orig['rating_label'])\n",
        "\n",
        "      # Print best parameters and score from RandomizedSearchCV\n",
        "      print(\"Best parameters: \", lgbm_rs.best_params_)\n",
        "      print(\"Best score: \", lgbm_rs.best_score_)\n",
        "\n",
        "      # Get best model and its score\n",
        "      best_rfc = lgbm_rs.best_estimator_\n",
        "      best_rfc_score = lgbm_rs.best_score_\n",
        "\n",
        "      rfc = best_rfc\n",
        "      joblib.dump(rfc, f\"./book_text_features_{method}/rf_method_{method}_numerical_{numerical}_reduce_{dimension_reduce}_crossval_{cross_val}_{notes}.joblib\")\n",
        "    else:\n",
        "      rfc.fit(train_df, train_df_orig['rating_label'])\n",
        "      joblib.dump(rfc, f\"./book_text_features_{method}/rf_method_{method}_numerical_{numerical}_reduce_{dimension_reduce}_crossval_{cross_val}_{notes}.joblib\")\n",
        "  else:\n",
        "    rfc = joblib.load(f\"./book_text_features_{method}/rf_method_{method}_numerical_{numerical}_reduce_{dimension_reduce}_crossval_{cross_val}_{notes}.joblib\")\n",
        "\n",
        "  return rfc\n",
        "\n",
        "lgbm = experiment_lgbm(method = 'tfidf', numerical = True, dimension_reduce = False, training = True, cross_val = True, train_df = train_df, train_df_orig = train_df_orig)\n"
      ],
      "id": "pncY0BLJ9HGj"
    },
    {
      "cell_type": "markdown",
      "metadata": {
        "id": "l9NBEnfjsGZT"
      },
      "source": [
        "## AdaBoost "
      ],
      "id": "l9NBEnfjsGZT"
    },
    {
      "cell_type": "code",
      "execution_count": null,
      "metadata": {
        "colab": {
          "base_uri": "https://localhost:8080/",
          "height": 203
        },
        "id": "Y4Axf0GtIRbv",
        "outputId": "b28c40fe-72de-48a5-8ba9-716450db2d46"
      },
      "outputs": [
        {
          "data": {
            "text/html": [
              "<style>#sk-container-id-1 {color: black;background-color: white;}#sk-container-id-1 pre{padding: 0;}#sk-container-id-1 div.sk-toggleable {background-color: white;}#sk-container-id-1 label.sk-toggleable__label {cursor: pointer;display: block;width: 100%;margin-bottom: 0;padding: 0.3em;box-sizing: border-box;text-align: center;}#sk-container-id-1 label.sk-toggleable__label-arrow:before {content: \"▸\";float: left;margin-right: 0.25em;color: #696969;}#sk-container-id-1 label.sk-toggleable__label-arrow:hover:before {color: black;}#sk-container-id-1 div.sk-estimator:hover label.sk-toggleable__label-arrow:before {color: black;}#sk-container-id-1 div.sk-toggleable__content {max-height: 0;max-width: 0;overflow: hidden;text-align: left;background-color: #f0f8ff;}#sk-container-id-1 div.sk-toggleable__content pre {margin: 0.2em;color: black;border-radius: 0.25em;background-color: #f0f8ff;}#sk-container-id-1 input.sk-toggleable__control:checked~div.sk-toggleable__content {max-height: 200px;max-width: 100%;overflow: auto;}#sk-container-id-1 input.sk-toggleable__control:checked~label.sk-toggleable__label-arrow:before {content: \"▾\";}#sk-container-id-1 div.sk-estimator input.sk-toggleable__control:checked~label.sk-toggleable__label {background-color: #d4ebff;}#sk-container-id-1 div.sk-label input.sk-toggleable__control:checked~label.sk-toggleable__label {background-color: #d4ebff;}#sk-container-id-1 input.sk-hidden--visually {border: 0;clip: rect(1px 1px 1px 1px);clip: rect(1px, 1px, 1px, 1px);height: 1px;margin: -1px;overflow: hidden;padding: 0;position: absolute;width: 1px;}#sk-container-id-1 div.sk-estimator {font-family: monospace;background-color: #f0f8ff;border: 1px dotted black;border-radius: 0.25em;box-sizing: border-box;margin-bottom: 0.5em;}#sk-container-id-1 div.sk-estimator:hover {background-color: #d4ebff;}#sk-container-id-1 div.sk-parallel-item::after {content: \"\";width: 100%;border-bottom: 1px solid gray;flex-grow: 1;}#sk-container-id-1 div.sk-label:hover label.sk-toggleable__label {background-color: #d4ebff;}#sk-container-id-1 div.sk-serial::before {content: \"\";position: absolute;border-left: 1px solid gray;box-sizing: border-box;top: 0;bottom: 0;left: 50%;z-index: 0;}#sk-container-id-1 div.sk-serial {display: flex;flex-direction: column;align-items: center;background-color: white;padding-right: 0.2em;padding-left: 0.2em;position: relative;}#sk-container-id-1 div.sk-item {position: relative;z-index: 1;}#sk-container-id-1 div.sk-parallel {display: flex;align-items: stretch;justify-content: center;background-color: white;position: relative;}#sk-container-id-1 div.sk-item::before, #sk-container-id-1 div.sk-parallel-item::before {content: \"\";position: absolute;border-left: 1px solid gray;box-sizing: border-box;top: 0;bottom: 0;left: 50%;z-index: -1;}#sk-container-id-1 div.sk-parallel-item {display: flex;flex-direction: column;z-index: 1;position: relative;background-color: white;}#sk-container-id-1 div.sk-parallel-item:first-child::after {align-self: flex-end;width: 50%;}#sk-container-id-1 div.sk-parallel-item:last-child::after {align-self: flex-start;width: 50%;}#sk-container-id-1 div.sk-parallel-item:only-child::after {width: 0;}#sk-container-id-1 div.sk-dashed-wrapped {border: 1px dashed gray;margin: 0 0.4em 0.5em 0.4em;box-sizing: border-box;padding-bottom: 0.4em;background-color: white;}#sk-container-id-1 div.sk-label label {font-family: monospace;font-weight: bold;display: inline-block;line-height: 1.2em;}#sk-container-id-1 div.sk-label-container {text-align: center;}#sk-container-id-1 div.sk-container {/* jupyter's `normalize.less` sets `[hidden] { display: none; }` but bootstrap.min.css set `[hidden] { display: none !important; }` so we also need the `!important` here to be able to override the default hidden behavior on the sphinx rendered scikit-learn.org. See: https://github.com/scikit-learn/scikit-learn/issues/21755 */display: inline-block !important;position: relative;}#sk-container-id-1 div.sk-text-repr-fallback {display: none;}</style><div id=\"sk-container-id-1\" class=\"sk-top-container\"><div class=\"sk-text-repr-fallback\"><pre>AdaBoostClassifier(estimator=DecisionTreeClassifier(max_depth=2),\n",
              "                   learning_rate=0.5, n_estimators=200)</pre><b>In a Jupyter environment, please rerun this cell to show the HTML representation or trust the notebook. <br />On GitHub, the HTML representation is unable to render, please try loading this page with nbviewer.org.</b></div><div class=\"sk-container\" hidden><div class=\"sk-item sk-dashed-wrapped\"><div class=\"sk-label-container\"><div class=\"sk-label sk-toggleable\"><input class=\"sk-toggleable__control sk-hidden--visually\" id=\"sk-estimator-id-1\" type=\"checkbox\" ><label for=\"sk-estimator-id-1\" class=\"sk-toggleable__label sk-toggleable__label-arrow\">AdaBoostClassifier</label><div class=\"sk-toggleable__content\"><pre>AdaBoostClassifier(estimator=DecisionTreeClassifier(max_depth=2),\n",
              "                   learning_rate=0.5, n_estimators=200)</pre></div></div></div><div class=\"sk-parallel\"><div class=\"sk-parallel-item\"><div class=\"sk-item\"><div class=\"sk-label-container\"><div class=\"sk-label sk-toggleable\"><input class=\"sk-toggleable__control sk-hidden--visually\" id=\"sk-estimator-id-2\" type=\"checkbox\" ><label for=\"sk-estimator-id-2\" class=\"sk-toggleable__label sk-toggleable__label-arrow\">estimator: DecisionTreeClassifier</label><div class=\"sk-toggleable__content\"><pre>DecisionTreeClassifier(max_depth=2)</pre></div></div></div><div class=\"sk-serial\"><div class=\"sk-item\"><div class=\"sk-estimator sk-toggleable\"><input class=\"sk-toggleable__control sk-hidden--visually\" id=\"sk-estimator-id-3\" type=\"checkbox\" ><label for=\"sk-estimator-id-3\" class=\"sk-toggleable__label sk-toggleable__label-arrow\">DecisionTreeClassifier</label><div class=\"sk-toggleable__content\"><pre>DecisionTreeClassifier(max_depth=2)</pre></div></div></div></div></div></div></div></div></div></div>"
            ],
            "text/plain": [
              "AdaBoostClassifier(estimator=DecisionTreeClassifier(max_depth=2),\n",
              "                   learning_rate=0.5, n_estimators=200)"
            ]
          },
          "execution_count": 58,
          "metadata": {},
          "output_type": "execute_result"
        }
      ],
      "source": [
        "from sklearn.ensemble import AdaBoostClassifier\n",
        "from sklearn.tree import DecisionTreeClassifier\n",
        "\n",
        "ada_clf = AdaBoostClassifier(\n",
        "    DecisionTreeClassifier(max_depth=2), n_estimators=200,\n",
        "    algorithm=\"SAMME.R\", learning_rate=0.5)\n",
        "ada_clf.fit(train_df, train_df_orig['rating_label'])"
      ],
      "id": "Y4Axf0GtIRbv"
    },
    {
      "cell_type": "code",
      "execution_count": null,
      "metadata": {
        "colab": {
          "base_uri": "https://localhost:8080/"
        },
        "id": "s1_BqbQKIzsl",
        "outputId": "e08d0deb-cfa9-42b1-9df1-61657ca3c296"
      },
      "outputs": [
        {
          "name": "stdout",
          "output_type": "stream",
          "text": [
            "[3. 4. 5.]\n",
            "4.0    5643\n",
            "3.0      81\n",
            "5.0      42\n",
            "dtype: int64\n"
          ]
        }
      ],
      "source": [
        "evaluate(ada_clf)"
      ],
      "id": "s1_BqbQKIzsl"
    },
    {
      "cell_type": "code",
      "execution_count": null,
      "metadata": {
        "colab": {
          "base_uri": "https://localhost:8080/",
          "height": 117
        },
        "id": "fF9poKLgKMH5",
        "outputId": "7a4a6cf6-4a57-4657-b302-368432d81afe"
      },
      "outputs": [
        {
          "data": {
            "text/html": [
              "<style>#sk-container-id-4 {color: black;background-color: white;}#sk-container-id-4 pre{padding: 0;}#sk-container-id-4 div.sk-toggleable {background-color: white;}#sk-container-id-4 label.sk-toggleable__label {cursor: pointer;display: block;width: 100%;margin-bottom: 0;padding: 0.3em;box-sizing: border-box;text-align: center;}#sk-container-id-4 label.sk-toggleable__label-arrow:before {content: \"▸\";float: left;margin-right: 0.25em;color: #696969;}#sk-container-id-4 label.sk-toggleable__label-arrow:hover:before {color: black;}#sk-container-id-4 div.sk-estimator:hover label.sk-toggleable__label-arrow:before {color: black;}#sk-container-id-4 div.sk-toggleable__content {max-height: 0;max-width: 0;overflow: hidden;text-align: left;background-color: #f0f8ff;}#sk-container-id-4 div.sk-toggleable__content pre {margin: 0.2em;color: black;border-radius: 0.25em;background-color: #f0f8ff;}#sk-container-id-4 input.sk-toggleable__control:checked~div.sk-toggleable__content {max-height: 200px;max-width: 100%;overflow: auto;}#sk-container-id-4 input.sk-toggleable__control:checked~label.sk-toggleable__label-arrow:before {content: \"▾\";}#sk-container-id-4 div.sk-estimator input.sk-toggleable__control:checked~label.sk-toggleable__label {background-color: #d4ebff;}#sk-container-id-4 div.sk-label input.sk-toggleable__control:checked~label.sk-toggleable__label {background-color: #d4ebff;}#sk-container-id-4 input.sk-hidden--visually {border: 0;clip: rect(1px 1px 1px 1px);clip: rect(1px, 1px, 1px, 1px);height: 1px;margin: -1px;overflow: hidden;padding: 0;position: absolute;width: 1px;}#sk-container-id-4 div.sk-estimator {font-family: monospace;background-color: #f0f8ff;border: 1px dotted black;border-radius: 0.25em;box-sizing: border-box;margin-bottom: 0.5em;}#sk-container-id-4 div.sk-estimator:hover {background-color: #d4ebff;}#sk-container-id-4 div.sk-parallel-item::after {content: \"\";width: 100%;border-bottom: 1px solid gray;flex-grow: 1;}#sk-container-id-4 div.sk-label:hover label.sk-toggleable__label {background-color: #d4ebff;}#sk-container-id-4 div.sk-serial::before {content: \"\";position: absolute;border-left: 1px solid gray;box-sizing: border-box;top: 0;bottom: 0;left: 50%;z-index: 0;}#sk-container-id-4 div.sk-serial {display: flex;flex-direction: column;align-items: center;background-color: white;padding-right: 0.2em;padding-left: 0.2em;position: relative;}#sk-container-id-4 div.sk-item {position: relative;z-index: 1;}#sk-container-id-4 div.sk-parallel {display: flex;align-items: stretch;justify-content: center;background-color: white;position: relative;}#sk-container-id-4 div.sk-item::before, #sk-container-id-4 div.sk-parallel-item::before {content: \"\";position: absolute;border-left: 1px solid gray;box-sizing: border-box;top: 0;bottom: 0;left: 50%;z-index: -1;}#sk-container-id-4 div.sk-parallel-item {display: flex;flex-direction: column;z-index: 1;position: relative;background-color: white;}#sk-container-id-4 div.sk-parallel-item:first-child::after {align-self: flex-end;width: 50%;}#sk-container-id-4 div.sk-parallel-item:last-child::after {align-self: flex-start;width: 50%;}#sk-container-id-4 div.sk-parallel-item:only-child::after {width: 0;}#sk-container-id-4 div.sk-dashed-wrapped {border: 1px dashed gray;margin: 0 0.4em 0.5em 0.4em;box-sizing: border-box;padding-bottom: 0.4em;background-color: white;}#sk-container-id-4 div.sk-label label {font-family: monospace;font-weight: bold;display: inline-block;line-height: 1.2em;}#sk-container-id-4 div.sk-label-container {text-align: center;}#sk-container-id-4 div.sk-container {/* jupyter's `normalize.less` sets `[hidden] { display: none; }` but bootstrap.min.css set `[hidden] { display: none !important; }` so we also need the `!important` here to be able to override the default hidden behavior on the sphinx rendered scikit-learn.org. See: https://github.com/scikit-learn/scikit-learn/issues/21755 */display: inline-block !important;position: relative;}#sk-container-id-4 div.sk-text-repr-fallback {display: none;}</style><div id=\"sk-container-id-4\" class=\"sk-top-container\"><div class=\"sk-text-repr-fallback\"><pre>AdaBoostClassifier(estimator=RandomForestClassifier(), learning_rate=0.5,\n",
              "                   n_estimators=100)</pre><b>In a Jupyter environment, please rerun this cell to show the HTML representation or trust the notebook. <br />On GitHub, the HTML representation is unable to render, please try loading this page with nbviewer.org.</b></div><div class=\"sk-container\" hidden><div class=\"sk-item sk-dashed-wrapped\"><div class=\"sk-label-container\"><div class=\"sk-label sk-toggleable\"><input class=\"sk-toggleable__control sk-hidden--visually\" id=\"sk-estimator-id-10\" type=\"checkbox\" ><label for=\"sk-estimator-id-10\" class=\"sk-toggleable__label sk-toggleable__label-arrow\">AdaBoostClassifier</label><div class=\"sk-toggleable__content\"><pre>AdaBoostClassifier(estimator=RandomForestClassifier(), learning_rate=0.5,\n",
              "                   n_estimators=100)</pre></div></div></div><div class=\"sk-parallel\"><div class=\"sk-parallel-item\"><div class=\"sk-item\"><div class=\"sk-label-container\"><div class=\"sk-label sk-toggleable\"><input class=\"sk-toggleable__control sk-hidden--visually\" id=\"sk-estimator-id-11\" type=\"checkbox\" ><label for=\"sk-estimator-id-11\" class=\"sk-toggleable__label sk-toggleable__label-arrow\">estimator: RandomForestClassifier</label><div class=\"sk-toggleable__content\"><pre>RandomForestClassifier()</pre></div></div></div><div class=\"sk-serial\"><div class=\"sk-item\"><div class=\"sk-estimator sk-toggleable\"><input class=\"sk-toggleable__control sk-hidden--visually\" id=\"sk-estimator-id-12\" type=\"checkbox\" ><label for=\"sk-estimator-id-12\" class=\"sk-toggleable__label sk-toggleable__label-arrow\">RandomForestClassifier</label><div class=\"sk-toggleable__content\"><pre>RandomForestClassifier()</pre></div></div></div></div></div></div></div></div></div></div>"
            ],
            "text/plain": [
              "AdaBoostClassifier(estimator=RandomForestClassifier(), learning_rate=0.5,\n",
              "                   n_estimators=100)"
            ]
          },
          "execution_count": 67,
          "metadata": {},
          "output_type": "execute_result"
        }
      ],
      "source": [
        "from sklearn.ensemble import AdaBoostClassifier\n",
        "from sklearn.tree import DecisionTreeClassifier\n",
        "\n",
        "ada_clf = AdaBoostClassifier(\n",
        "    RandomForestClassifier(), n_estimators=100,\n",
        "    algorithm=\"SAMME.R\", learning_rate=0.5)\n",
        "ada_clf.fit(train_df, train_df_orig['rating_label'])"
      ],
      "id": "fF9poKLgKMH5"
    },
    {
      "cell_type": "code",
      "execution_count": null,
      "metadata": {
        "colab": {
          "base_uri": "https://localhost:8080/"
        },
        "id": "m-ydNtbhKOkc",
        "outputId": "a86a5700-3803-415b-9597-d703ff1c6d32"
      },
      "outputs": [
        {
          "name": "stdout",
          "output_type": "stream",
          "text": [
            "[3. 4. 5.]\n",
            "4.0    5681\n",
            "3.0      71\n",
            "5.0      14\n",
            "dtype: int64\n"
          ]
        }
      ],
      "source": [
        "evaluate(ada_clf)"
      ],
      "id": "m-ydNtbhKOkc"
    },
    {
      "cell_type": "code",
      "execution_count": null,
      "metadata": {
        "colab": {
          "base_uri": "https://localhost:8080/"
        },
        "id": "Rc9WsJLBLYS0",
        "outputId": "512ee8b0-a58c-4cdb-c2d2-ec8cfc648c9e"
      },
      "outputs": [
        {
          "data": {
            "text/plain": [
              "['./book_text_features_tfidf/adaboost_rf.joblib']"
            ]
          },
          "execution_count": 69,
          "metadata": {},
          "output_type": "execute_result"
        }
      ],
      "source": [
        "joblib.dump(ada_clf, f\"./book_text_features_tfidf/adaboost_rf.joblib\")\n"
      ],
      "id": "Rc9WsJLBLYS0"
    },
    {
      "cell_type": "code",
      "execution_count": null,
      "metadata": {
        "id": "-SpcPQlsMUbq"
      },
      "outputs": [],
      "source": [
        "rfc = experiment_rf(method = 'tfidf', numerical = True, dimension_reduce = False, training = False, cross_val = False)\n",
        "# xgb = joblib.load(f\"./book_text_features_{method}/xg_method_{method}_numerical_{numerical}_reduce_{dimension_reduce}.pkl\")\n"
      ],
      "id": "-SpcPQlsMUbq"
    },
    {
      "cell_type": "markdown",
      "metadata": {
        "id": "AI3-uzoeUd_v"
      },
      "source": [
        "## LGBM Classifier"
      ],
      "id": "AI3-uzoeUd_v"
    },
    {
      "cell_type": "code",
      "execution_count": null,
      "metadata": {
        "colab": {
          "base_uri": "https://localhost:8080/",
          "height": 74
        },
        "id": "W9TTHPchUgp2",
        "outputId": "41c6073d-8817-4dd7-ebbd-6fe1cd2b67c5"
      },
      "outputs": [
        {
          "data": {
            "text/html": [
              "<style>#sk-container-id-5 {color: black;background-color: white;}#sk-container-id-5 pre{padding: 0;}#sk-container-id-5 div.sk-toggleable {background-color: white;}#sk-container-id-5 label.sk-toggleable__label {cursor: pointer;display: block;width: 100%;margin-bottom: 0;padding: 0.3em;box-sizing: border-box;text-align: center;}#sk-container-id-5 label.sk-toggleable__label-arrow:before {content: \"▸\";float: left;margin-right: 0.25em;color: #696969;}#sk-container-id-5 label.sk-toggleable__label-arrow:hover:before {color: black;}#sk-container-id-5 div.sk-estimator:hover label.sk-toggleable__label-arrow:before {color: black;}#sk-container-id-5 div.sk-toggleable__content {max-height: 0;max-width: 0;overflow: hidden;text-align: left;background-color: #f0f8ff;}#sk-container-id-5 div.sk-toggleable__content pre {margin: 0.2em;color: black;border-radius: 0.25em;background-color: #f0f8ff;}#sk-container-id-5 input.sk-toggleable__control:checked~div.sk-toggleable__content {max-height: 200px;max-width: 100%;overflow: auto;}#sk-container-id-5 input.sk-toggleable__control:checked~label.sk-toggleable__label-arrow:before {content: \"▾\";}#sk-container-id-5 div.sk-estimator input.sk-toggleable__control:checked~label.sk-toggleable__label {background-color: #d4ebff;}#sk-container-id-5 div.sk-label input.sk-toggleable__control:checked~label.sk-toggleable__label {background-color: #d4ebff;}#sk-container-id-5 input.sk-hidden--visually {border: 0;clip: rect(1px 1px 1px 1px);clip: rect(1px, 1px, 1px, 1px);height: 1px;margin: -1px;overflow: hidden;padding: 0;position: absolute;width: 1px;}#sk-container-id-5 div.sk-estimator {font-family: monospace;background-color: #f0f8ff;border: 1px dotted black;border-radius: 0.25em;box-sizing: border-box;margin-bottom: 0.5em;}#sk-container-id-5 div.sk-estimator:hover {background-color: #d4ebff;}#sk-container-id-5 div.sk-parallel-item::after {content: \"\";width: 100%;border-bottom: 1px solid gray;flex-grow: 1;}#sk-container-id-5 div.sk-label:hover label.sk-toggleable__label {background-color: #d4ebff;}#sk-container-id-5 div.sk-serial::before {content: \"\";position: absolute;border-left: 1px solid gray;box-sizing: border-box;top: 0;bottom: 0;left: 50%;z-index: 0;}#sk-container-id-5 div.sk-serial {display: flex;flex-direction: column;align-items: center;background-color: white;padding-right: 0.2em;padding-left: 0.2em;position: relative;}#sk-container-id-5 div.sk-item {position: relative;z-index: 1;}#sk-container-id-5 div.sk-parallel {display: flex;align-items: stretch;justify-content: center;background-color: white;position: relative;}#sk-container-id-5 div.sk-item::before, #sk-container-id-5 div.sk-parallel-item::before {content: \"\";position: absolute;border-left: 1px solid gray;box-sizing: border-box;top: 0;bottom: 0;left: 50%;z-index: -1;}#sk-container-id-5 div.sk-parallel-item {display: flex;flex-direction: column;z-index: 1;position: relative;background-color: white;}#sk-container-id-5 div.sk-parallel-item:first-child::after {align-self: flex-end;width: 50%;}#sk-container-id-5 div.sk-parallel-item:last-child::after {align-self: flex-start;width: 50%;}#sk-container-id-5 div.sk-parallel-item:only-child::after {width: 0;}#sk-container-id-5 div.sk-dashed-wrapped {border: 1px dashed gray;margin: 0 0.4em 0.5em 0.4em;box-sizing: border-box;padding-bottom: 0.4em;background-color: white;}#sk-container-id-5 div.sk-label label {font-family: monospace;font-weight: bold;display: inline-block;line-height: 1.2em;}#sk-container-id-5 div.sk-label-container {text-align: center;}#sk-container-id-5 div.sk-container {/* jupyter's `normalize.less` sets `[hidden] { display: none; }` but bootstrap.min.css set `[hidden] { display: none !important; }` so we also need the `!important` here to be able to override the default hidden behavior on the sphinx rendered scikit-learn.org. See: https://github.com/scikit-learn/scikit-learn/issues/21755 */display: inline-block !important;position: relative;}#sk-container-id-5 div.sk-text-repr-fallback {display: none;}</style><div id=\"sk-container-id-5\" class=\"sk-top-container\"><div class=\"sk-text-repr-fallback\"><pre>LGBMClassifier()</pre><b>In a Jupyter environment, please rerun this cell to show the HTML representation or trust the notebook. <br />On GitHub, the HTML representation is unable to render, please try loading this page with nbviewer.org.</b></div><div class=\"sk-container\" hidden><div class=\"sk-item\"><div class=\"sk-estimator sk-toggleable\"><input class=\"sk-toggleable__control sk-hidden--visually\" id=\"sk-estimator-id-13\" type=\"checkbox\" checked><label for=\"sk-estimator-id-13\" class=\"sk-toggleable__label sk-toggleable__label-arrow\">LGBMClassifier</label><div class=\"sk-toggleable__content\"><pre>LGBMClassifier()</pre></div></div></div></div></div>"
            ],
            "text/plain": [
              "LGBMClassifier()"
            ]
          },
          "execution_count": 75,
          "metadata": {},
          "output_type": "execute_result"
        }
      ],
      "source": [
        "from lightgbm import LGBMClassifier\n",
        "\n",
        "lgbm = LGBMClassifier()\n",
        "lgbm.fit(train_df, train_df_orig['rating_label'])"
      ],
      "id": "W9TTHPchUgp2"
    },
    {
      "cell_type": "code",
      "execution_count": null,
      "metadata": {
        "colab": {
          "base_uri": "https://localhost:8080/"
        },
        "id": "dJqlyhDLVu0U",
        "outputId": "5911c9c3-029a-4589-e612-fce549c303db"
      },
      "outputs": [
        {
          "data": {
            "text/plain": [
              "['./book_text_features_tfidf/lgbm.joblib']"
            ]
          },
          "execution_count": 76,
          "metadata": {},
          "output_type": "execute_result"
        }
      ],
      "source": [
        "joblib.dump(ada_clf, f\"./book_text_features_tfidf/lgbm.joblib\")\n"
      ],
      "id": "dJqlyhDLVu0U"
    },
    {
      "cell_type": "code",
      "execution_count": null,
      "metadata": {
        "colab": {
          "base_uri": "https://localhost:8080/"
        },
        "id": "6hz1Ucu1Vxlm",
        "outputId": "1cee8ad7-f701-4b5c-a875-cbc6280e7d84"
      },
      "outputs": [
        {
          "name": "stderr",
          "output_type": "stream",
          "text": [
            "/usr/local/lib/python3.10/dist-packages/lightgbm/basic.py:859: UserWarning: Converting data to scipy sparse matrix.\n",
            "  _log_warning('Converting data to scipy sparse matrix.')\n"
          ]
        },
        {
          "name": "stdout",
          "output_type": "stream",
          "text": [
            "[3. 4. 5.]\n",
            "4.0    5402\n",
            "3.0     339\n",
            "5.0      25\n",
            "dtype: int64\n"
          ]
        }
      ],
      "source": [
        "evaluate(lgbm)"
      ],
      "id": "6hz1Ucu1Vxlm"
    },
    {
      "cell_type": "code",
      "execution_count": null,
      "metadata": {
        "colab": {
          "base_uri": "https://localhost:8080/",
          "height": 151
        },
        "id": "TuAe1HPEWSMn",
        "outputId": "a4ad33a4-74c4-4f60-8933-2ea2f4bbd6da"
      },
      "outputs": [
        {
          "data": {
            "text/html": [
              "<style>#sk-container-id-7 {color: black;background-color: white;}#sk-container-id-7 pre{padding: 0;}#sk-container-id-7 div.sk-toggleable {background-color: white;}#sk-container-id-7 label.sk-toggleable__label {cursor: pointer;display: block;width: 100%;margin-bottom: 0;padding: 0.3em;box-sizing: border-box;text-align: center;}#sk-container-id-7 label.sk-toggleable__label-arrow:before {content: \"▸\";float: left;margin-right: 0.25em;color: #696969;}#sk-container-id-7 label.sk-toggleable__label-arrow:hover:before {color: black;}#sk-container-id-7 div.sk-estimator:hover label.sk-toggleable__label-arrow:before {color: black;}#sk-container-id-7 div.sk-toggleable__content {max-height: 0;max-width: 0;overflow: hidden;text-align: left;background-color: #f0f8ff;}#sk-container-id-7 div.sk-toggleable__content pre {margin: 0.2em;color: black;border-radius: 0.25em;background-color: #f0f8ff;}#sk-container-id-7 input.sk-toggleable__control:checked~div.sk-toggleable__content {max-height: 200px;max-width: 100%;overflow: auto;}#sk-container-id-7 input.sk-toggleable__control:checked~label.sk-toggleable__label-arrow:before {content: \"▾\";}#sk-container-id-7 div.sk-estimator input.sk-toggleable__control:checked~label.sk-toggleable__label {background-color: #d4ebff;}#sk-container-id-7 div.sk-label input.sk-toggleable__control:checked~label.sk-toggleable__label {background-color: #d4ebff;}#sk-container-id-7 input.sk-hidden--visually {border: 0;clip: rect(1px 1px 1px 1px);clip: rect(1px, 1px, 1px, 1px);height: 1px;margin: -1px;overflow: hidden;padding: 0;position: absolute;width: 1px;}#sk-container-id-7 div.sk-estimator {font-family: monospace;background-color: #f0f8ff;border: 1px dotted black;border-radius: 0.25em;box-sizing: border-box;margin-bottom: 0.5em;}#sk-container-id-7 div.sk-estimator:hover {background-color: #d4ebff;}#sk-container-id-7 div.sk-parallel-item::after {content: \"\";width: 100%;border-bottom: 1px solid gray;flex-grow: 1;}#sk-container-id-7 div.sk-label:hover label.sk-toggleable__label {background-color: #d4ebff;}#sk-container-id-7 div.sk-serial::before {content: \"\";position: absolute;border-left: 1px solid gray;box-sizing: border-box;top: 0;bottom: 0;left: 50%;z-index: 0;}#sk-container-id-7 div.sk-serial {display: flex;flex-direction: column;align-items: center;background-color: white;padding-right: 0.2em;padding-left: 0.2em;position: relative;}#sk-container-id-7 div.sk-item {position: relative;z-index: 1;}#sk-container-id-7 div.sk-parallel {display: flex;align-items: stretch;justify-content: center;background-color: white;position: relative;}#sk-container-id-7 div.sk-item::before, #sk-container-id-7 div.sk-parallel-item::before {content: \"\";position: absolute;border-left: 1px solid gray;box-sizing: border-box;top: 0;bottom: 0;left: 50%;z-index: -1;}#sk-container-id-7 div.sk-parallel-item {display: flex;flex-direction: column;z-index: 1;position: relative;background-color: white;}#sk-container-id-7 div.sk-parallel-item:first-child::after {align-self: flex-end;width: 50%;}#sk-container-id-7 div.sk-parallel-item:last-child::after {align-self: flex-start;width: 50%;}#sk-container-id-7 div.sk-parallel-item:only-child::after {width: 0;}#sk-container-id-7 div.sk-dashed-wrapped {border: 1px dashed gray;margin: 0 0.4em 0.5em 0.4em;box-sizing: border-box;padding-bottom: 0.4em;background-color: white;}#sk-container-id-7 div.sk-label label {font-family: monospace;font-weight: bold;display: inline-block;line-height: 1.2em;}#sk-container-id-7 div.sk-label-container {text-align: center;}#sk-container-id-7 div.sk-container {/* jupyter's `normalize.less` sets `[hidden] { display: none; }` but bootstrap.min.css set `[hidden] { display: none !important; }` so we also need the `!important` here to be able to override the default hidden behavior on the sphinx rendered scikit-learn.org. See: https://github.com/scikit-learn/scikit-learn/issues/21755 */display: inline-block !important;position: relative;}#sk-container-id-7 div.sk-text-repr-fallback {display: none;}</style><div id=\"sk-container-id-7\" class=\"sk-top-container\"><div class=\"sk-text-repr-fallback\"><pre>VotingClassifier(estimators=[(&#x27;rf&#x27;, RandomForestClassifier(random_state=42)),\n",
              "                             (&#x27;lgbm&#x27;, LGBMClassifier()),\n",
              "                             (&#x27;ada_rf&#x27;,\n",
              "                              AdaBoostClassifier(estimator=RandomForestClassifier(),\n",
              "                                                 learning_rate=0.5,\n",
              "                                                 n_estimators=100))],\n",
              "                 voting=&#x27;soft&#x27;)</pre><b>In a Jupyter environment, please rerun this cell to show the HTML representation or trust the notebook. <br />On GitHub, the HTML representation is unable to render, please try loading this page with nbviewer.org.</b></div><div class=\"sk-container\" hidden><div class=\"sk-item sk-dashed-wrapped\"><div class=\"sk-label-container\"><div class=\"sk-label sk-toggleable\"><input class=\"sk-toggleable__control sk-hidden--visually\" id=\"sk-estimator-id-19\" type=\"checkbox\" ><label for=\"sk-estimator-id-19\" class=\"sk-toggleable__label sk-toggleable__label-arrow\">VotingClassifier</label><div class=\"sk-toggleable__content\"><pre>VotingClassifier(estimators=[(&#x27;rf&#x27;, RandomForestClassifier(random_state=42)),\n",
              "                             (&#x27;lgbm&#x27;, LGBMClassifier()),\n",
              "                             (&#x27;ada_rf&#x27;,\n",
              "                              AdaBoostClassifier(estimator=RandomForestClassifier(),\n",
              "                                                 learning_rate=0.5,\n",
              "                                                 n_estimators=100))],\n",
              "                 voting=&#x27;soft&#x27;)</pre></div></div></div><div class=\"sk-parallel\"><div class=\"sk-parallel-item\"><div class=\"sk-item\"><div class=\"sk-label-container\"><div class=\"sk-label sk-toggleable\"><label>rf</label></div></div><div class=\"sk-serial\"><div class=\"sk-item\"><div class=\"sk-estimator sk-toggleable\"><input class=\"sk-toggleable__control sk-hidden--visually\" id=\"sk-estimator-id-20\" type=\"checkbox\" ><label for=\"sk-estimator-id-20\" class=\"sk-toggleable__label sk-toggleable__label-arrow\">RandomForestClassifier</label><div class=\"sk-toggleable__content\"><pre>RandomForestClassifier(random_state=42)</pre></div></div></div></div></div></div><div class=\"sk-parallel-item\"><div class=\"sk-item\"><div class=\"sk-label-container\"><div class=\"sk-label sk-toggleable\"><label>lgbm</label></div></div><div class=\"sk-serial\"><div class=\"sk-item\"><div class=\"sk-estimator sk-toggleable\"><input class=\"sk-toggleable__control sk-hidden--visually\" id=\"sk-estimator-id-21\" type=\"checkbox\" ><label for=\"sk-estimator-id-21\" class=\"sk-toggleable__label sk-toggleable__label-arrow\">LGBMClassifier</label><div class=\"sk-toggleable__content\"><pre>LGBMClassifier()</pre></div></div></div></div></div></div><div class=\"sk-parallel-item\"><div class=\"sk-item\"><div class=\"sk-label-container\"><div class=\"sk-label sk-toggleable\"><label>ada_rf</label></div></div><div class=\"sk-serial\"><div class=\"sk-item sk-dashed-wrapped\"><div class=\"sk-parallel\"><div class=\"sk-parallel-item\"><div class=\"sk-item\"><div class=\"sk-label-container\"><div class=\"sk-label sk-toggleable\"><input class=\"sk-toggleable__control sk-hidden--visually\" id=\"sk-estimator-id-22\" type=\"checkbox\" ><label for=\"sk-estimator-id-22\" class=\"sk-toggleable__label sk-toggleable__label-arrow\">estimator: RandomForestClassifier</label><div class=\"sk-toggleable__content\"><pre>RandomForestClassifier()</pre></div></div></div><div class=\"sk-serial\"><div class=\"sk-item\"><div class=\"sk-estimator sk-toggleable\"><input class=\"sk-toggleable__control sk-hidden--visually\" id=\"sk-estimator-id-23\" type=\"checkbox\" ><label for=\"sk-estimator-id-23\" class=\"sk-toggleable__label sk-toggleable__label-arrow\">RandomForestClassifier</label><div class=\"sk-toggleable__content\"><pre>RandomForestClassifier()</pre></div></div></div></div></div></div></div></div></div></div></div></div></div></div></div>"
            ],
            "text/plain": [
              "VotingClassifier(estimators=[('rf', RandomForestClassifier(random_state=42)),\n",
              "                             ('lgbm', LGBMClassifier()),\n",
              "                             ('ada_rf',\n",
              "                              AdaBoostClassifier(estimator=RandomForestClassifier(),\n",
              "                                                 learning_rate=0.5,\n",
              "                                                 n_estimators=100))],\n",
              "                 voting='soft')"
            ]
          },
          "execution_count": 88,
          "metadata": {},
          "output_type": "execute_result"
        }
      ],
      "source": [
        "from sklearn.ensemble import VotingClassifier\n",
        "\n",
        "\n",
        "voting_clf = VotingClassifier(\n",
        "    estimators = [('rf', rfc), ('lgbm', lgbm), ('ada_rf', ada_clf)],\n",
        "    voting = 'soft'\n",
        ")\n",
        "\n",
        "voting_clf.fit(train_df, train_df_orig['rating_label'])"
      ],
      "id": "TuAe1HPEWSMn"
    },
    {
      "cell_type": "code",
      "execution_count": null,
      "metadata": {
        "colab": {
          "base_uri": "https://localhost:8080/"
        },
        "id": "5K6vy8pqfC3K",
        "outputId": "fdcaff5d-316d-4ea7-8b1b-485cd2bb0cc4"
      },
      "outputs": [
        {
          "data": {
            "text/plain": [
              "['./book_text_features_tfidf/soft_voting_clf.joblib']"
            ]
          },
          "execution_count": 90,
          "metadata": {},
          "output_type": "execute_result"
        }
      ],
      "source": [
        "joblib.dump(voting_clf, f\"./book_text_features_tfidf/soft_voting_clf.joblib\")\n"
      ],
      "id": "5K6vy8pqfC3K"
    },
    {
      "cell_type": "code",
      "execution_count": null,
      "metadata": {
        "colab": {
          "base_uri": "https://localhost:8080/"
        },
        "id": "-S227lBUWvMp",
        "outputId": "b82cdaf0-2d71-4d61-acb2-a09ee2c53fa8"
      },
      "outputs": [
        {
          "name": "stderr",
          "output_type": "stream",
          "text": [
            "/usr/local/lib/python3.10/dist-packages/lightgbm/basic.py:859: UserWarning: Converting data to scipy sparse matrix.\n",
            "  _log_warning('Converting data to scipy sparse matrix.')\n"
          ]
        },
        {
          "name": "stdout",
          "output_type": "stream",
          "text": [
            "[3. 4. 5.]\n",
            "4.0    5646\n",
            "3.0     103\n",
            "5.0      17\n",
            "dtype: int64\n"
          ]
        }
      ],
      "source": [
        "evaluate(voting_clf)"
      ],
      "id": "-S227lBUWvMp"
    },
    {
      "cell_type": "markdown",
      "source": [
        "## Setting up for Training and validation"
      ],
      "metadata": {
        "id": "8Y0tMZ59u1_A"
      },
      "id": "8Y0tMZ59u1_A"
    },
    {
      "cell_type": "markdown",
      "source": [
        "### randomforest"
      ],
      "metadata": {
        "id": "piWJZr8vylgE"
      },
      "id": "piWJZr8vylgE"
    },
    {
      "cell_type": "code",
      "source": [
        "train_df_orig.iloc[val_ind, :]"
      ],
      "metadata": {
        "colab": {
          "base_uri": "https://localhost:8080/",
          "height": 641
        },
        "id": "h8MLky36wKCF",
        "outputId": "f6bde480-7eba-470a-9547-0cb3e0da0db3"
      },
      "id": "h8MLky36wKCF",
      "execution_count": null,
      "outputs": [
        {
          "output_type": "execute_result",
          "data": {
            "text/plain": [
              "                                                    Name            Authors  \\\n",
              "21717                  Goblin Quest (Jig the Goblin, #1)       Jim C. Hines   \n",
              "11673                      Complete Poems of John Milton        John Milton   \n",
              "5932   My Words Consume Me -- An Anthology of Youth S...      A'Darius Bell   \n",
              "11404  Holy Bible: NIV Large Print Reference Bible, P...          Anonymous   \n",
              "8425   Literature Against Itself: Literary Ideas in M...       Gerald Graff   \n",
              "...                                                  ...                ...   \n",
              "2131   The Birds of Ecuador: Ecology and Behavior of ...  Robert S. Ridgely   \n",
              "21841                         The Dog Insisted He Wasn't     Marilyn Singer   \n",
              "13906                              End of the Millennium    Manuel Castells   \n",
              "20920                                  My Wicked Fantasy       Karen Ranney   \n",
              "3917                Rupture dans le réel III - Expansion  Peter F. Hamilton   \n",
              "\n",
              "       PublishYear  PublishMonth  PublishDay                     Publisher  \\\n",
              "21717         2004            11           1                Five Star (ME)   \n",
              "11673         2004             1          11          Kessinger Publishing   \n",
              "5932          2003             5           1                   McSweeney's   \n",
              "11404         1986            11          25  Zondervan Publishing Company   \n",
              "8425          1995             8           1         Ivan R. Dee Publisher   \n",
              "...            ...           ...         ...                           ...   \n",
              "2131          2001             6          26      Cornell University Press   \n",
              "21841         1976             9          21                  Dutton Books   \n",
              "13906         1998             2          11               Wiley-Blackwell   \n",
              "20920         1998             2           1                    Avon Books   \n",
              "3917          2003             6          12                        Pocket   \n",
              "\n",
              "      Language  pagesNumber  \\\n",
              "21717      NaN          326   \n",
              "11673      NaN          468   \n",
              "5932       NaN          133   \n",
              "11404      NaN         1940   \n",
              "8425       NaN          276   \n",
              "...        ...          ...   \n",
              "2131       NaN          768   \n",
              "21841      NaN           32   \n",
              "13906      NaN          418   \n",
              "20920      eng          373   \n",
              "3917       fre          539   \n",
              "\n",
              "                                             Description  rating_label  \n",
              "21717  When Jig's patrol is ambushed by a group of ad...           4.0  \n",
              "11673  This scarce antiquarian book is a facsimile re...           4.0  \n",
              "5932   Youth Speaks is a Bay Area nonprofit, with sat...           4.0  \n",
              "11404  Concordance <br /> End-of-paragraph references...           5.0  \n",
              "8425   Since its first publication more than fifteen ...           3.0  \n",
              "...                                                  ...           ...  \n",
              "2131   The Birds of Ecuador comprehensively treats th...           5.0  \n",
              "21841  Konrad insists that he is not a dog until bein...           4.0  \n",
              "13906  The final volume in Manuel Castells' trilogy i...           4.0  \n",
              "20920  <i>Librarian's note: An alternate cover editio...           3.0  \n",
              "3917   Les Forces Spatiales arrivent devant Lalonde ;...           4.0  \n",
              "\n",
              "[4611 rows x 10 columns]"
            ],
            "text/html": [
              "\n",
              "  <div id=\"df-e48c29a9-08ad-40fd-a8ee-1a596780a30e\">\n",
              "    <div class=\"colab-df-container\">\n",
              "      <div>\n",
              "<style scoped>\n",
              "    .dataframe tbody tr th:only-of-type {\n",
              "        vertical-align: middle;\n",
              "    }\n",
              "\n",
              "    .dataframe tbody tr th {\n",
              "        vertical-align: top;\n",
              "    }\n",
              "\n",
              "    .dataframe thead th {\n",
              "        text-align: right;\n",
              "    }\n",
              "</style>\n",
              "<table border=\"1\" class=\"dataframe\">\n",
              "  <thead>\n",
              "    <tr style=\"text-align: right;\">\n",
              "      <th></th>\n",
              "      <th>Name</th>\n",
              "      <th>Authors</th>\n",
              "      <th>PublishYear</th>\n",
              "      <th>PublishMonth</th>\n",
              "      <th>PublishDay</th>\n",
              "      <th>Publisher</th>\n",
              "      <th>Language</th>\n",
              "      <th>pagesNumber</th>\n",
              "      <th>Description</th>\n",
              "      <th>rating_label</th>\n",
              "    </tr>\n",
              "  </thead>\n",
              "  <tbody>\n",
              "    <tr>\n",
              "      <th>21717</th>\n",
              "      <td>Goblin Quest (Jig the Goblin, #1)</td>\n",
              "      <td>Jim C. Hines</td>\n",
              "      <td>2004</td>\n",
              "      <td>11</td>\n",
              "      <td>1</td>\n",
              "      <td>Five Star (ME)</td>\n",
              "      <td>NaN</td>\n",
              "      <td>326</td>\n",
              "      <td>When Jig's patrol is ambushed by a group of ad...</td>\n",
              "      <td>4.0</td>\n",
              "    </tr>\n",
              "    <tr>\n",
              "      <th>11673</th>\n",
              "      <td>Complete Poems of John Milton</td>\n",
              "      <td>John Milton</td>\n",
              "      <td>2004</td>\n",
              "      <td>1</td>\n",
              "      <td>11</td>\n",
              "      <td>Kessinger Publishing</td>\n",
              "      <td>NaN</td>\n",
              "      <td>468</td>\n",
              "      <td>This scarce antiquarian book is a facsimile re...</td>\n",
              "      <td>4.0</td>\n",
              "    </tr>\n",
              "    <tr>\n",
              "      <th>5932</th>\n",
              "      <td>My Words Consume Me -- An Anthology of Youth S...</td>\n",
              "      <td>A'Darius Bell</td>\n",
              "      <td>2003</td>\n",
              "      <td>5</td>\n",
              "      <td>1</td>\n",
              "      <td>McSweeney's</td>\n",
              "      <td>NaN</td>\n",
              "      <td>133</td>\n",
              "      <td>Youth Speaks is a Bay Area nonprofit, with sat...</td>\n",
              "      <td>4.0</td>\n",
              "    </tr>\n",
              "    <tr>\n",
              "      <th>11404</th>\n",
              "      <td>Holy Bible: NIV Large Print Reference Bible, P...</td>\n",
              "      <td>Anonymous</td>\n",
              "      <td>1986</td>\n",
              "      <td>11</td>\n",
              "      <td>25</td>\n",
              "      <td>Zondervan Publishing Company</td>\n",
              "      <td>NaN</td>\n",
              "      <td>1940</td>\n",
              "      <td>Concordance &lt;br /&gt; End-of-paragraph references...</td>\n",
              "      <td>5.0</td>\n",
              "    </tr>\n",
              "    <tr>\n",
              "      <th>8425</th>\n",
              "      <td>Literature Against Itself: Literary Ideas in M...</td>\n",
              "      <td>Gerald Graff</td>\n",
              "      <td>1995</td>\n",
              "      <td>8</td>\n",
              "      <td>1</td>\n",
              "      <td>Ivan R. Dee Publisher</td>\n",
              "      <td>NaN</td>\n",
              "      <td>276</td>\n",
              "      <td>Since its first publication more than fifteen ...</td>\n",
              "      <td>3.0</td>\n",
              "    </tr>\n",
              "    <tr>\n",
              "      <th>...</th>\n",
              "      <td>...</td>\n",
              "      <td>...</td>\n",
              "      <td>...</td>\n",
              "      <td>...</td>\n",
              "      <td>...</td>\n",
              "      <td>...</td>\n",
              "      <td>...</td>\n",
              "      <td>...</td>\n",
              "      <td>...</td>\n",
              "      <td>...</td>\n",
              "    </tr>\n",
              "    <tr>\n",
              "      <th>2131</th>\n",
              "      <td>The Birds of Ecuador: Ecology and Behavior of ...</td>\n",
              "      <td>Robert S. Ridgely</td>\n",
              "      <td>2001</td>\n",
              "      <td>6</td>\n",
              "      <td>26</td>\n",
              "      <td>Cornell University Press</td>\n",
              "      <td>NaN</td>\n",
              "      <td>768</td>\n",
              "      <td>The Birds of Ecuador comprehensively treats th...</td>\n",
              "      <td>5.0</td>\n",
              "    </tr>\n",
              "    <tr>\n",
              "      <th>21841</th>\n",
              "      <td>The Dog Insisted He Wasn't</td>\n",
              "      <td>Marilyn Singer</td>\n",
              "      <td>1976</td>\n",
              "      <td>9</td>\n",
              "      <td>21</td>\n",
              "      <td>Dutton Books</td>\n",
              "      <td>NaN</td>\n",
              "      <td>32</td>\n",
              "      <td>Konrad insists that he is not a dog until bein...</td>\n",
              "      <td>4.0</td>\n",
              "    </tr>\n",
              "    <tr>\n",
              "      <th>13906</th>\n",
              "      <td>End of the Millennium</td>\n",
              "      <td>Manuel Castells</td>\n",
              "      <td>1998</td>\n",
              "      <td>2</td>\n",
              "      <td>11</td>\n",
              "      <td>Wiley-Blackwell</td>\n",
              "      <td>NaN</td>\n",
              "      <td>418</td>\n",
              "      <td>The final volume in Manuel Castells' trilogy i...</td>\n",
              "      <td>4.0</td>\n",
              "    </tr>\n",
              "    <tr>\n",
              "      <th>20920</th>\n",
              "      <td>My Wicked Fantasy</td>\n",
              "      <td>Karen Ranney</td>\n",
              "      <td>1998</td>\n",
              "      <td>2</td>\n",
              "      <td>1</td>\n",
              "      <td>Avon Books</td>\n",
              "      <td>eng</td>\n",
              "      <td>373</td>\n",
              "      <td>&lt;i&gt;Librarian's note: An alternate cover editio...</td>\n",
              "      <td>3.0</td>\n",
              "    </tr>\n",
              "    <tr>\n",
              "      <th>3917</th>\n",
              "      <td>Rupture dans le réel III - Expansion</td>\n",
              "      <td>Peter F. Hamilton</td>\n",
              "      <td>2003</td>\n",
              "      <td>6</td>\n",
              "      <td>12</td>\n",
              "      <td>Pocket</td>\n",
              "      <td>fre</td>\n",
              "      <td>539</td>\n",
              "      <td>Les Forces Spatiales arrivent devant Lalonde ;...</td>\n",
              "      <td>4.0</td>\n",
              "    </tr>\n",
              "  </tbody>\n",
              "</table>\n",
              "<p>4611 rows × 10 columns</p>\n",
              "</div>\n",
              "      <button class=\"colab-df-convert\" onclick=\"convertToInteractive('df-e48c29a9-08ad-40fd-a8ee-1a596780a30e')\"\n",
              "              title=\"Convert this dataframe to an interactive table.\"\n",
              "              style=\"display:none;\">\n",
              "        \n",
              "  <svg xmlns=\"http://www.w3.org/2000/svg\" height=\"24px\"viewBox=\"0 0 24 24\"\n",
              "       width=\"24px\">\n",
              "    <path d=\"M0 0h24v24H0V0z\" fill=\"none\"/>\n",
              "    <path d=\"M18.56 5.44l.94 2.06.94-2.06 2.06-.94-2.06-.94-.94-2.06-.94 2.06-2.06.94zm-11 1L8.5 8.5l.94-2.06 2.06-.94-2.06-.94L8.5 2.5l-.94 2.06-2.06.94zm10 10l.94 2.06.94-2.06 2.06-.94-2.06-.94-.94-2.06-.94 2.06-2.06.94z\"/><path d=\"M17.41 7.96l-1.37-1.37c-.4-.4-.92-.59-1.43-.59-.52 0-1.04.2-1.43.59L10.3 9.45l-7.72 7.72c-.78.78-.78 2.05 0 2.83L4 21.41c.39.39.9.59 1.41.59.51 0 1.02-.2 1.41-.59l7.78-7.78 2.81-2.81c.8-.78.8-2.07 0-2.86zM5.41 20L4 18.59l7.72-7.72 1.47 1.35L5.41 20z\"/>\n",
              "  </svg>\n",
              "      </button>\n",
              "      \n",
              "  <style>\n",
              "    .colab-df-container {\n",
              "      display:flex;\n",
              "      flex-wrap:wrap;\n",
              "      gap: 12px;\n",
              "    }\n",
              "\n",
              "    .colab-df-convert {\n",
              "      background-color: #E8F0FE;\n",
              "      border: none;\n",
              "      border-radius: 50%;\n",
              "      cursor: pointer;\n",
              "      display: none;\n",
              "      fill: #1967D2;\n",
              "      height: 32px;\n",
              "      padding: 0 0 0 0;\n",
              "      width: 32px;\n",
              "    }\n",
              "\n",
              "    .colab-df-convert:hover {\n",
              "      background-color: #E2EBFA;\n",
              "      box-shadow: 0px 1px 2px rgba(60, 64, 67, 0.3), 0px 1px 3px 1px rgba(60, 64, 67, 0.15);\n",
              "      fill: #174EA6;\n",
              "    }\n",
              "\n",
              "    [theme=dark] .colab-df-convert {\n",
              "      background-color: #3B4455;\n",
              "      fill: #D2E3FC;\n",
              "    }\n",
              "\n",
              "    [theme=dark] .colab-df-convert:hover {\n",
              "      background-color: #434B5C;\n",
              "      box-shadow: 0px 1px 3px 1px rgba(0, 0, 0, 0.15);\n",
              "      filter: drop-shadow(0px 1px 2px rgba(0, 0, 0, 0.3));\n",
              "      fill: #FFFFFF;\n",
              "    }\n",
              "  </style>\n",
              "\n",
              "      <script>\n",
              "        const buttonEl =\n",
              "          document.querySelector('#df-e48c29a9-08ad-40fd-a8ee-1a596780a30e button.colab-df-convert');\n",
              "        buttonEl.style.display =\n",
              "          google.colab.kernel.accessAllowed ? 'block' : 'none';\n",
              "\n",
              "        async function convertToInteractive(key) {\n",
              "          const element = document.querySelector('#df-e48c29a9-08ad-40fd-a8ee-1a596780a30e');\n",
              "          const dataTable =\n",
              "            await google.colab.kernel.invokeFunction('convertToInteractive',\n",
              "                                                     [key], {});\n",
              "          if (!dataTable) return;\n",
              "\n",
              "          const docLinkHtml = 'Like what you see? Visit the ' +\n",
              "            '<a target=\"_blank\" href=https://colab.research.google.com/notebooks/data_table.ipynb>data table notebook</a>'\n",
              "            + ' to learn more about interactive tables.';\n",
              "          element.innerHTML = '';\n",
              "          dataTable['output_type'] = 'display_data';\n",
              "          await google.colab.output.renderOutput(dataTable, element);\n",
              "          const docLink = document.createElement('div');\n",
              "          docLink.innerHTML = docLinkHtml;\n",
              "          element.appendChild(docLink);\n",
              "        }\n",
              "      </script>\n",
              "    </div>\n",
              "  </div>\n",
              "  "
            ]
          },
          "metadata": {},
          "execution_count": 24
        }
      ]
    },
    {
      "cell_type": "code",
      "source": [
        "rfc = experiment_rf(method = 'tfidf', numerical = True, dimension_reduce = False, training = True, cross_val = False, train_df = train, train_df_orig = train_df_orig.iloc[train_ind, :], notes = \"validation\")\n"
      ],
      "metadata": {
        "id": "zgpRmyHRu5-9"
      },
      "id": "zgpRmyHRu5-9",
      "execution_count": null,
      "outputs": []
    },
    {
      "cell_type": "code",
      "source": [
        "\n",
        "#Import the necessary libraries\n",
        "import numpy as np\n",
        "from sklearn.metrics import confusion_matrix\n",
        "import seaborn as sns\n",
        "import matplotlib.pyplot as plt\n",
        " \n",
        "y_pred = evaluate(rfc, val, write_csv = False)\n",
        "cm = confusion_matrix(train_df_orig.iloc[val_ind, :]['rating_label'], y_pred)\n",
        "\n",
        " \n",
        "#Plot the confusion matrix.\n",
        "sns.heatmap(cm,\n",
        "            annot=True,\n",
        "            fmt='g',)\n",
        "plt.ylabel('Prediction',fontsize=13)\n",
        "plt.xlabel('Actual',fontsize=13)\n",
        "plt.title('Confusion Matrix',fontsize=17)\n",
        "plt.show()"
      ],
      "metadata": {
        "colab": {
          "base_uri": "https://localhost:8080/",
          "height": 570
        },
        "id": "qUvZ-7FTvFkF",
        "outputId": "bb6c4ba8-a0aa-4a3b-9086-3801cc84248c"
      },
      "id": "qUvZ-7FTvFkF",
      "execution_count": null,
      "outputs": [
        {
          "output_type": "stream",
          "name": "stdout",
          "text": [
            "[3. 4. 5.]\n",
            "4.0    4539\n",
            "3.0      70\n",
            "5.0       2\n",
            "dtype: int64\n"
          ]
        },
        {
          "output_type": "display_data",
          "data": {
            "text/plain": [
              "<Figure size 640x480 with 2 Axes>"
            ],
            "image/png": "[encoded data removed]"
          },
          "metadata": {}
        }
      ]
    },
    {
      "cell_type": "markdown",
      "source": [
        "### LGBM"
      ],
      "metadata": {
        "id": "FRHnZ6Ctv3o_"
      },
      "id": "FRHnZ6Ctv3o_"
    },
    {
      "cell_type": "code",
      "source": [
        "from lightgbm import LGBMClassifier\n",
        "import seaborn as sns\n",
        "from sklearn.metrics import confusion_matrix, classification_report\n",
        "\n",
        "\n",
        "lgbm = LGBMClassifier(class_weight = 'balanced')\n",
        "# lgbm.fit(train, train_df_orig.iloc[train_ind, :]['rating_label'])\n",
        "\n",
        "import csv\n",
        "\n",
        "def evaluate(classifier, test_df = test_df, label_encoder = None, write_csv = True):\n",
        "  y_pred = classifier.predict(test_df)\n",
        "  if label_encoder:\n",
        "    y_pred = classifier.predict(test_df)\n",
        "    y_pred = label_encoder.inverse_transform(y_pred)\n",
        "  def info(y_pred):\n",
        "    print(np.unique(y_pred))\n",
        "    print(pd.DataFrame(y_pred).value_counts())\n",
        "\n",
        "  if write_csv: \n",
        "    # write in the csv file\n",
        "    with open('output.csv', 'w', newline='') as csvfile:\n",
        "        writer = csv.writer(csvfile)\n",
        "        writer.writerow(['id', 'rating_label'])\n",
        "        for i, rating in enumerate(y_pred):\n",
        "            writer.writerow([i+1, rating])\n",
        "\n",
        "  info(y_pred)\n",
        "  return y_pred\n",
        "  \n",
        "\n",
        "# evaluate(rfc)"
      ],
      "metadata": {
        "id": "OkcX6rO3yuAh"
      },
      "id": "OkcX6rO3yuAh",
      "execution_count": null,
      "outputs": []
    },
    {
      "cell_type": "code",
      "source": [
        "# joblib.dump( lgbm, \"lgbm_class_weight.joblib\",)\n",
        "lgbm = joblib.load(\"lgbm_class_weight.joblib\")\n",
        "\n",
        "y_pred = evaluate(lgbm, val, write_csv = False)\n",
        "cm = confusion_matrix(train_df_orig.iloc[val_ind, :]['rating_label'], y_pred)\n",
        "\n",
        " \n",
        "#Plot the confusion matrix.\n",
        "sns.heatmap(cm,\n",
        "            annot=True,\n",
        "            fmt='g',)\n",
        "plt.ylabel('Prediction',fontsize=13)\n",
        "plt.xlabel('Actual',fontsize=13)\n",
        "plt.title('Confusion Matrix',fontsize=17)\n",
        "plt.show()"
      ],
      "metadata": {
        "colab": {
          "base_uri": "https://localhost:8080/",
          "height": 603
        },
        "id": "bCO8JjBs135H",
        "outputId": "4eb0f229-6704-4704-e6f4-601aec1aaf31"
      },
      "id": "bCO8JjBs135H",
      "execution_count": null,
      "outputs": [
        {
          "output_type": "stream",
          "name": "stderr",
          "text": [
            "/usr/local/lib/python3.10/dist-packages/lightgbm/basic.py:859: UserWarning: Converting data to scipy sparse matrix.\n",
            "  _log_warning('Converting data to scipy sparse matrix.')\n"
          ]
        },
        {
          "output_type": "stream",
          "name": "stdout",
          "text": [
            "[3. 4. 5.]\n",
            "4.0    2601\n",
            "3.0    1645\n",
            "5.0     365\n",
            "dtype: int64\n"
          ]
        },
        {
          "output_type": "display_data",
          "data": {
            "text/plain": [
              "<Figure size 640x480 with 2 Axes>"
            ],
            "image/png": "[encoded data removed]"
          },
          "metadata": {}
        }
      ]
    },
    {
      "cell_type": "code",
      "source": [
        "print(classification_report(train_df_orig.iloc[val_ind, :]['rating_label'], y_pred))\n"
      ],
      "metadata": {
        "colab": {
          "base_uri": "https://localhost:8080/"
        },
        "id": "ZNkGoTxbj82E",
        "outputId": "b700f771-d8a5-4af7-fde7-52de2104eaf2"
      },
      "id": "ZNkGoTxbj82E",
      "execution_count": null,
      "outputs": [
        {
          "output_type": "stream",
          "name": "stdout",
          "text": [
            "              precision    recall  f1-score   support\n",
            "\n",
            "         3.0       0.38      0.53      0.44      1172\n",
            "         4.0       0.77      0.61      0.68      3241\n",
            "         5.0       0.22      0.40      0.28       198\n",
            "\n",
            "    accuracy                           0.58      4611\n",
            "   macro avg       0.45      0.52      0.47      4611\n",
            "weighted avg       0.64      0.58      0.60      4611\n",
            "\n"
          ]
        }
      ]
    },
    {
      "cell_type": "code",
      "source": [
        "from lightgbm import LGBMClassifier\n",
        "\n",
        "lgbm = LGBMClassifier()\n",
        "# lgbm.fit(train, train_df_orig.iloc[train_ind, :]['rating_label'])\n",
        "\n",
        "\n",
        "# joblib.dump( lgbm, \"lgbm_normal.joblib\",)\n",
        "lgbm = joblib.load(\"lgbm_normal.joblib\")\n",
        "\n",
        "y_pred = evaluate(lgbm, val, write_csv = False)\n",
        "cm = confusion_matrix(train_df_orig.iloc[val_ind, :]['rating_label'], y_pred)\n",
        "\n",
        " \n",
        "#Plot the confusion matrix.\n",
        "sns.heatmap(cm,\n",
        "            annot=True,\n",
        "            fmt='g',)\n",
        "plt.ylabel('Prediction',fontsize=13)\n",
        "plt.xlabel('Actual',fontsize=13)\n",
        "plt.title('Confusion Matrix',fontsize=17)\n",
        "plt.show()"
      ],
      "metadata": {
        "colab": {
          "base_uri": "https://localhost:8080/",
          "height": 603
        },
        "id": "0M5r7zpv2DRp",
        "outputId": "9ffc46a4-f8da-4b4b-f969-6611e1b5a7f7"
      },
      "id": "0M5r7zpv2DRp",
      "execution_count": null,
      "outputs": [
        {
          "output_type": "stream",
          "name": "stderr",
          "text": [
            "/usr/local/lib/python3.10/dist-packages/lightgbm/basic.py:859: UserWarning: Converting data to scipy sparse matrix.\n",
            "  _log_warning('Converting data to scipy sparse matrix.')\n"
          ]
        },
        {
          "output_type": "stream",
          "name": "stdout",
          "text": [
            "[3. 4. 5.]\n",
            "4.0    4282\n",
            "3.0     313\n",
            "5.0      16\n",
            "dtype: int64\n"
          ]
        },
        {
          "output_type": "display_data",
          "data": {
            "text/plain": [
              "<Figure size 640x480 with 2 Axes>"
            ],
            "image/png": "[encoded data removed]"
          },
          "metadata": {}
        }
      ]
    },
    {
      "cell_type": "code",
      "source": [
        "from sklearn.metrics import confusion_matrix, classification_report\n",
        "print(classification_report(train_df_orig.iloc[val_ind, :]['rating_label'], y_pred))"
      ],
      "metadata": {
        "colab": {
          "base_uri": "https://localhost:8080/"
        },
        "id": "a2QwUOel3JEt",
        "outputId": "e857a702-e4fe-400b-9579-3a158e05a402"
      },
      "id": "a2QwUOel3JEt",
      "execution_count": null,
      "outputs": [
        {
          "output_type": "stream",
          "name": "stdout",
          "text": [
            "              precision    recall  f1-score   support\n",
            "\n",
            "         3.0       0.54      0.15      0.23      1172\n",
            "         4.0       0.72      0.95      0.82      3241\n",
            "         5.0       0.62      0.05      0.09       198\n",
            "\n",
            "    accuracy                           0.71      4611\n",
            "   macro avg       0.63      0.38      0.38      4611\n",
            "weighted avg       0.67      0.71      0.64      4611\n",
            "\n"
          ]
        }
      ]
    },
    {
      "cell_type": "code",
      "source": [
        "print(train.shape, train_df_orig.iloc[train_ind, :]['rating_label'].shape)"
      ],
      "metadata": {
        "colab": {
          "base_uri": "https://localhost:8080/"
        },
        "id": "ygIEPSkZlYJO",
        "outputId": "c1bc63f6-3f0f-470f-b1ee-049a2fa80b51"
      },
      "id": "ygIEPSkZlYJO",
      "execution_count": null,
      "outputs": [
        {
          "output_type": "stream",
          "name": "stdout",
          "text": [
            "(18452, 117314) (18452,)\n"
          ]
        }
      ]
    },
    {
      "cell_type": "code",
      "source": [
        "desired_freq= {3.0: 9750, 4.0: 13000, 5.0: 9750}\n",
        "from imblearn.over_sampling import SMOTE\n",
        "\n",
        "\n",
        "# Create an instance of SMOTE\n",
        "sm = SMOTE(sampling_strategy = desired_freq, random_state=42)\n",
        "\n",
        "# Fit the SMOTE object with X and y\n",
        "X_res, y_res = sm.fit_resample(train, train_df_orig.iloc[train_ind, :]['rating_label'])"
      ],
      "metadata": {
        "colab": {
          "base_uri": "https://localhost:8080/"
        },
        "id": "CuWuBB8GnaoB",
        "outputId": "50c45d17-39fa-4e2e-e53f-a39538343025"
      },
      "id": "CuWuBB8GnaoB",
      "execution_count": null,
      "outputs": [
        {
          "output_type": "stream",
          "name": "stderr",
          "text": [
            "/usr/local/lib/python3.10/dist-packages/imblearn/utils/_validation.py:313: UserWarning: After over-sampling, the number of samples (13000) in class 4.0 will be larger than the number of samples in the majority class (class #4.0 -> 12967)\n",
            "  warnings.warn(\n"
          ]
        }
      ]
    },
    {
      "cell_type": "code",
      "source": [
        "print(X_res.shape, y_res.shape)\n",
        "print(type(X_res), type(y_res))\n",
        "import scipy.sparse as sp\n",
        "\n",
        "# assume you have a sparse CSR matrix named 'sparse_matrix'\n",
        "sp.save_npz('X_res.npz', X_res)\n",
        "\n",
        "# assume you have a Pandas series named 'pandas_series'\n",
        "y_res.to_csv('y_res.csv', index=False)"
      ],
      "metadata": {
        "colab": {
          "base_uri": "https://localhost:8080/"
        },
        "id": "XH0NgFOtuyfB",
        "outputId": "9b98ae32-cf65-4558-883e-77ebfb71456c"
      },
      "id": "XH0NgFOtuyfB",
      "execution_count": null,
      "outputs": [
        {
          "output_type": "stream",
          "name": "stdout",
          "text": [
            "(32500, 117314) (32500,)\n",
            "<class 'scipy.sparse._csr.csr_matrix'> <class 'pandas.core.series.Series'>\n"
          ]
        }
      ]
    },
    {
      "cell_type": "code",
      "source": [
        "lgbm = LGBMClassifier()\n",
        "lgbm.fit(X_res, y_res)\n",
        "\n",
        "\n",
        "joblib.dump( lgbm, \"lgbm_oversampling.joblib\",)\n",
        "lgbm = joblib.load(\"lgbm_oversampling.joblib\")\n",
        "\n",
        "y_pred = evaluate(lgbm, val, write_csv = False)\n",
        "cm = confusion_matrix(train_df_orig.iloc[val_ind, :]['rating_label'], y_pred)\n",
        "\n",
        " \n",
        "#Plot the confusion matrix.\n",
        "sns.heatmap(cm,\n",
        "            annot=True,\n",
        "            fmt='g',)\n",
        "plt.ylabel('Prediction',fontsize=13)\n",
        "plt.xlabel('Actual',fontsize=13)\n",
        "plt.title('Confusion Matrix',fontsize=17)\n",
        "plt.show()"
      ],
      "metadata": {
        "colab": {
          "base_uri": "https://localhost:8080/",
          "height": 603
        },
        "id": "ePi74btwvULS",
        "outputId": "6d3490cf-2b73-4138-d1c3-4edffd891340"
      },
      "id": "ePi74btwvULS",
      "execution_count": null,
      "outputs": [
        {
          "output_type": "stream",
          "name": "stderr",
          "text": [
            "/usr/local/lib/python3.10/dist-packages/lightgbm/basic.py:859: UserWarning: Converting data to scipy sparse matrix.\n",
            "  _log_warning('Converting data to scipy sparse matrix.')\n"
          ]
        },
        {
          "output_type": "stream",
          "name": "stdout",
          "text": [
            "[3. 4. 5.]\n",
            "4.0    4093\n",
            "3.0     428\n",
            "5.0      90\n",
            "dtype: int64\n"
          ]
        },
        {
          "output_type": "display_data",
          "data": {
            "text/plain": [
              "<Figure size 640x480 with 2 Axes>"
            ],
            "image/png": "[encoded data removed]"
          },
          "metadata": {}
        }
      ]
    },
    {
      "cell_type": "code",
      "source": [
        "print(classification_report(train_df_orig.iloc[val_ind, :]['rating_label'], y_pred))"
      ],
      "metadata": {
        "colab": {
          "base_uri": "https://localhost:8080/"
        },
        "id": "xAv6BHpMw7DL",
        "outputId": "8ea52ec4-3a33-4300-ce3d-497007c3e663"
      },
      "id": "xAv6BHpMw7DL",
      "execution_count": null,
      "outputs": [
        {
          "output_type": "stream",
          "name": "stdout",
          "text": [
            "              precision    recall  f1-score   support\n",
            "\n",
            "         3.0       0.49      0.18      0.26      1172\n",
            "         4.0       0.73      0.92      0.81      3241\n",
            "         5.0       0.34      0.16      0.22       198\n",
            "\n",
            "    accuracy                           0.70      4611\n",
            "   macro avg       0.52      0.42      0.43      4611\n",
            "weighted avg       0.65      0.70      0.65      4611\n",
            "\n"
          ]
        }
      ]
    },
    {
      "cell_type": "code",
      "source": [
        "evaluate(lgbm, write_csv = False)"
      ],
      "metadata": {
        "id": "wSswfQ3zxUNk",
        "outputId": "b8be040b-01d6-4492-ca28-e7fd8436fc93",
        "colab": {
          "base_uri": "https://localhost:8080/",
          "height": 311
        }
      },
      "id": "wSswfQ3zxUNk",
      "execution_count": null,
      "outputs": [
        {
          "output_type": "error",
          "ename": "ValueError",
          "evalue": "ignored",
          "traceback": [
            "\u001b[0;31m---------------------------------------------------------------------------\u001b[0m",
            "\u001b[0;31mValueError\u001b[0m                                Traceback (most recent call last)",
            "\u001b[0;32m<ipython-input-36-e2c76511abe3>\u001b[0m in \u001b[0;36m<cell line: 1>\u001b[0;34m()\u001b[0m\n\u001b[0;32m----> 1\u001b[0;31m \u001b[0mevaluate\u001b[0m\u001b[0;34m(\u001b[0m\u001b[0mlgbm\u001b[0m\u001b[0;34m,\u001b[0m \u001b[0mwrite_csv\u001b[0m \u001b[0;34m=\u001b[0m \u001b[0;32mFalse\u001b[0m\u001b[0;34m)\u001b[0m\u001b[0;34m\u001b[0m\u001b[0;34m\u001b[0m\u001b[0m\n\u001b[0m",
            "\u001b[0;32m<ipython-input-16-334bf7a982f3>\u001b[0m in \u001b[0;36mevaluate\u001b[0;34m(classifier, test_df, label_encoder, write_csv)\u001b[0m\n\u001b[1;32m      9\u001b[0m \u001b[0;34m\u001b[0m\u001b[0m\n\u001b[1;32m     10\u001b[0m \u001b[0;32mdef\u001b[0m \u001b[0mevaluate\u001b[0m\u001b[0;34m(\u001b[0m\u001b[0mclassifier\u001b[0m\u001b[0;34m,\u001b[0m \u001b[0mtest_df\u001b[0m \u001b[0;34m=\u001b[0m \u001b[0mtest_df\u001b[0m\u001b[0;34m,\u001b[0m \u001b[0mlabel_encoder\u001b[0m \u001b[0;34m=\u001b[0m \u001b[0;32mNone\u001b[0m\u001b[0;34m,\u001b[0m \u001b[0mwrite_csv\u001b[0m \u001b[0;34m=\u001b[0m \u001b[0;32mTrue\u001b[0m\u001b[0;34m)\u001b[0m\u001b[0;34m:\u001b[0m\u001b[0;34m\u001b[0m\u001b[0;34m\u001b[0m\u001b[0m\n\u001b[0;32m---> 11\u001b[0;31m   \u001b[0my_pred\u001b[0m \u001b[0;34m=\u001b[0m \u001b[0mclassifier\u001b[0m\u001b[0;34m.\u001b[0m\u001b[0mpredict\u001b[0m\u001b[0;34m(\u001b[0m\u001b[0mtest_df\u001b[0m\u001b[0;34m)\u001b[0m\u001b[0;34m\u001b[0m\u001b[0;34m\u001b[0m\u001b[0m\n\u001b[0m\u001b[1;32m     12\u001b[0m   \u001b[0;32mif\u001b[0m \u001b[0mlabel_encoder\u001b[0m\u001b[0;34m:\u001b[0m\u001b[0;34m\u001b[0m\u001b[0;34m\u001b[0m\u001b[0m\n\u001b[1;32m     13\u001b[0m     \u001b[0my_pred\u001b[0m \u001b[0;34m=\u001b[0m \u001b[0mclassifier\u001b[0m\u001b[0;34m.\u001b[0m\u001b[0mpredict\u001b[0m\u001b[0;34m(\u001b[0m\u001b[0mtest_df\u001b[0m\u001b[0;34m)\u001b[0m\u001b[0;34m\u001b[0m\u001b[0;34m\u001b[0m\u001b[0m\n",
            "\u001b[0;32m/usr/local/lib/python3.10/dist-packages/lightgbm/sklearn.py\u001b[0m in \u001b[0;36mpredict\u001b[0;34m(self, X, raw_score, start_iteration, num_iteration, pred_leaf, pred_contrib, **kwargs)\u001b[0m\n\u001b[1;32m    982\u001b[0m                 pred_leaf=False, pred_contrib=False, **kwargs):\n\u001b[1;32m    983\u001b[0m         \u001b[0;34m\"\"\"Docstring is inherited from the LGBMModel.\"\"\"\u001b[0m\u001b[0;34m\u001b[0m\u001b[0;34m\u001b[0m\u001b[0m\n\u001b[0;32m--> 984\u001b[0;31m         result = self.predict_proba(X, raw_score, start_iteration, num_iteration,\n\u001b[0m\u001b[1;32m    985\u001b[0m                                     pred_leaf, pred_contrib, **kwargs)\n\u001b[1;32m    986\u001b[0m         \u001b[0;32mif\u001b[0m \u001b[0mcallable\u001b[0m\u001b[0;34m(\u001b[0m\u001b[0mself\u001b[0m\u001b[0;34m.\u001b[0m\u001b[0m_objective\u001b[0m\u001b[0;34m)\u001b[0m \u001b[0;32mor\u001b[0m \u001b[0mraw_score\u001b[0m \u001b[0;32mor\u001b[0m \u001b[0mpred_leaf\u001b[0m \u001b[0;32mor\u001b[0m \u001b[0mpred_contrib\u001b[0m\u001b[0;34m:\u001b[0m\u001b[0;34m\u001b[0m\u001b[0;34m\u001b[0m\u001b[0m\n",
            "\u001b[0;32m/usr/local/lib/python3.10/dist-packages/lightgbm/sklearn.py\u001b[0m in \u001b[0;36mpredict_proba\u001b[0;34m(self, X, raw_score, start_iteration, num_iteration, pred_leaf, pred_contrib, **kwargs)\u001b[0m\n\u001b[1;32m    995\u001b[0m                       pred_leaf=False, pred_contrib=False, **kwargs):\n\u001b[1;32m    996\u001b[0m         \u001b[0;34m\"\"\"Docstring is set after definition, using a template.\"\"\"\u001b[0m\u001b[0;34m\u001b[0m\u001b[0;34m\u001b[0m\u001b[0m\n\u001b[0;32m--> 997\u001b[0;31m         \u001b[0mresult\u001b[0m \u001b[0;34m=\u001b[0m \u001b[0msuper\u001b[0m\u001b[0;34m(\u001b[0m\u001b[0;34m)\u001b[0m\u001b[0;34m.\u001b[0m\u001b[0mpredict\u001b[0m\u001b[0;34m(\u001b[0m\u001b[0mX\u001b[0m\u001b[0;34m,\u001b[0m \u001b[0mraw_score\u001b[0m\u001b[0;34m,\u001b[0m \u001b[0mstart_iteration\u001b[0m\u001b[0;34m,\u001b[0m \u001b[0mnum_iteration\u001b[0m\u001b[0;34m,\u001b[0m \u001b[0mpred_leaf\u001b[0m\u001b[0;34m,\u001b[0m \u001b[0mpred_contrib\u001b[0m\u001b[0;34m,\u001b[0m \u001b[0;34m**\u001b[0m\u001b[0mkwargs\u001b[0m\u001b[0;34m)\u001b[0m\u001b[0;34m\u001b[0m\u001b[0;34m\u001b[0m\u001b[0m\n\u001b[0m\u001b[1;32m    998\u001b[0m         \u001b[0;32mif\u001b[0m \u001b[0mcallable\u001b[0m\u001b[0;34m(\u001b[0m\u001b[0mself\u001b[0m\u001b[0;34m.\u001b[0m\u001b[0m_objective\u001b[0m\u001b[0;34m)\u001b[0m \u001b[0;32mand\u001b[0m \u001b[0;32mnot\u001b[0m \u001b[0;34m(\u001b[0m\u001b[0mraw_score\u001b[0m \u001b[0;32mor\u001b[0m \u001b[0mpred_leaf\u001b[0m \u001b[0;32mor\u001b[0m \u001b[0mpred_contrib\u001b[0m\u001b[0;34m)\u001b[0m\u001b[0;34m:\u001b[0m\u001b[0;34m\u001b[0m\u001b[0;34m\u001b[0m\u001b[0m\n\u001b[1;32m    999\u001b[0m             _log_warning(\"Cannot compute class probabilities or labels \"\n",
            "\u001b[0;32m/usr/local/lib/python3.10/dist-packages/lightgbm/sklearn.py\u001b[0m in \u001b[0;36mpredict\u001b[0;34m(self, X, raw_score, start_iteration, num_iteration, pred_leaf, pred_contrib, **kwargs)\u001b[0m\n\u001b[1;32m    798\u001b[0m         \u001b[0mn_features\u001b[0m \u001b[0;34m=\u001b[0m \u001b[0mX\u001b[0m\u001b[0;34m.\u001b[0m\u001b[0mshape\u001b[0m\u001b[0;34m[\u001b[0m\u001b[0;36m1\u001b[0m\u001b[0;34m]\u001b[0m\u001b[0;34m\u001b[0m\u001b[0;34m\u001b[0m\u001b[0m\n\u001b[1;32m    799\u001b[0m         \u001b[0;32mif\u001b[0m \u001b[0mself\u001b[0m\u001b[0;34m.\u001b[0m\u001b[0m_n_features\u001b[0m \u001b[0;34m!=\u001b[0m \u001b[0mn_features\u001b[0m\u001b[0;34m:\u001b[0m\u001b[0;34m\u001b[0m\u001b[0;34m\u001b[0m\u001b[0m\n\u001b[0;32m--> 800\u001b[0;31m             raise ValueError(\"Number of features of the model must \"\n\u001b[0m\u001b[1;32m    801\u001b[0m                              \u001b[0;34mf\"match the input. Model n_features_ is {self._n_features} and \"\u001b[0m\u001b[0;34m\u001b[0m\u001b[0;34m\u001b[0m\u001b[0m\n\u001b[1;32m    802\u001b[0m                              f\"input n_features is {n_features}\")\n",
            "\u001b[0;31mValueError\u001b[0m: Number of features of the model must match the input. Model n_features_ is 117314 and input n_features is 135726"
          ]
        }
      ]
    },
    {
      "cell_type": "markdown",
      "metadata": {
        "id": "Q0STrKt3Jd_k"
      },
      "source": [
        "### XGBoost Classifier"
      ],
      "id": "Q0STrKt3Jd_k"
    },
    {
      "cell_type": "code",
      "execution_count": null,
      "metadata": {
        "id": "aThXJyi-JquD"
      },
      "outputs": [],
      "source": [
        "from xgboost import XGBClassifier\n",
        "from sklearn.preprocessing import LabelEncoder\n",
        "\n",
        "\n",
        "def experiment_xgboost(method, numerical, dimension_reduce, training = True):\n",
        "\n",
        "\n",
        "  if training:\n",
        "    rating = train_df_orig['rating_label']\n",
        "    y_encoded = le.fit_transform(rating)\n",
        "    classifier.fit(train_df, y_encoded)\n",
        "    joblib.dump(classifier, f\"./book_text_features_{method}/xg_method_{method}_numerical_{numerical}_reduce_{dimension_reduce}.pkl\")\n",
        "  else:\n",
        "    classifier = joblib.load(f\"./book_text_features_{method}/xg_method_{method}_numerical_{numerical}_reduce_{dimension_reduce}.pkl\")\n",
        "\n",
        "  return classifier, le\n",
        "\n",
        "xgb, le = experiment_xgboost(method = 'tfidf', numerical = True, dimension_reduce = False, training = True)"
      ],
      "id": "aThXJyi-JquD"
    },
    {
      "cell_type": "code",
      "execution_count": null,
      "metadata": {
        "colab": {
          "base_uri": "https://localhost:8080/"
        },
        "id": "-dXkDQqWKaxG",
        "outputId": "da9b51c9-3a08-4822-8933-a7cca5390ee8"
      },
      "outputs": [
        {
          "name": "stdout",
          "output_type": "stream",
          "text": [
            "[3. 4. 5.]\n",
            "4.0    5463\n",
            "3.0     283\n",
            "5.0      20\n",
            "dtype: int64\n"
          ]
        }
      ],
      "source": [
        "evaluate(xgb, le)"
      ],
      "id": "-dXkDQqWKaxG"
    },
    {
      "cell_type": "code",
      "execution_count": null,
      "metadata": {
        "id": "Lbv-_OrGHwVi"
      },
      "outputs": [],
      "source": [],
      "id": "Lbv-_OrGHwVi"
    },
    {
      "cell_type": "code",
      "execution_count": null,
      "metadata": {
        "id": "p6zNiPWpLvpq"
      },
      "outputs": [],
      "source": [
        "# save the trained model to disk\n",
        "joblib.dump(xgb_clf, 'xgb_model.pkl')\n",
        "# load the saved model from disk\n",
        "loaded_model = joblib.load('xgb_model.pkl')"
      ],
      "id": "p6zNiPWpLvpq"
    },
    {
      "cell_type": "code",
      "execution_count": null,
      "metadata": {
        "colab": {
          "base_uri": "https://localhost:8080/"
        },
        "id": "Yd3BBoJkNFtd",
        "outputId": "0d8d751f-9304-45c8-e754-376a82d9d3c4"
      },
      "outputs": [
        {
          "name": "stdout",
          "output_type": "stream",
          "text": [
            "(23063, 220) (23063,)\n",
            "(5766, 220)\n",
            "[4. 4. 4. ... 4. 4. 4.]\n"
          ]
        }
      ],
      "source": [
        "# DocVec\n",
        "train_df = pd.concat([train_desc, train_name, train_author], axis = 1)\n",
        "test_df = pd.concat([test_desc, test_name, test_author], axis = 1)\n",
        "\n",
        "print(train_df.shape, y_encoded.shape)\n",
        "print(test_df.shape)\n",
        "\n",
        "train_df.columns = list(range(220))\n",
        "test_df.columns = list(range(220))\n",
        "\n",
        "xgb_clf.fit(train_df, y_encoded)\n",
        "\n",
        "# Prediction\n",
        "y_pred = xgb_clf.predict(test_df)\n",
        "y_pred = le.inverse_transform(y_pred)\n",
        "print(y_pred)\n",
        "\n",
        "# save the trained model to disk\n",
        "joblib.dump(xgb_clf, 'xgb_model_doc.pkl')\n",
        "# load the saved model from disk\n",
        "loaded_model = joblib.load('xgb_model_doc.pkl')"
      ],
      "id": "Yd3BBoJkNFtd"
    },
    {
      "cell_type": "markdown",
      "metadata": {
        "id": "d3ff7d69"
      },
      "source": [
        "## DocVec"
      ],
      "id": "d3ff7d69"
    },
    {
      "cell_type": "code",
      "execution_count": null,
      "metadata": {
        "colab": {
          "base_uri": "https://localhost:8080/",
          "height": 424
        },
        "id": "ef574555",
        "outputId": "f6516c6f-f2aa-428e-ef3a-46f11dd3dfcb"
      },
      "outputs": [
        {
          "output_type": "execute_result",
          "data": {
            "text/plain": [
              "                                                  Name              Authors  \\\n",
              "0                              Near Occasions of Grace         Richard Rohr   \n",
              "1                                     The Perfect Spot      Robert J. Blake   \n",
              "2               Study Guide for Campbell Reece Biology     Martha R. Taylor   \n",
              "3           To Rescue A Rogue (Company of Rogues, #12)          Jo Beverley   \n",
              "4     Soul Picnic: The Music and Passion of Laura Nyro         Michele Kort   \n",
              "...                                                ...                  ...   \n",
              "5761  The Wicca Herbal: Recipes, Magick, and Abundance  Jamie Martinez Wood   \n",
              "5762           Shifter's Desire: Vampire Fangs & Venom            Myra Nour   \n",
              "5763                 El Metodo Silva de Control Mental           José Silva   \n",
              "5764        Renaissance and Renascences in Western Art       Erwin Panofsky   \n",
              "5765                      More Random Acts of Kindness         Conari Press   \n",
              "\n",
              "      PublishYear  PublishMonth  PublishDay           Publisher Language  \\\n",
              "0            1993             1           1         Orbis Books      NaN   \n",
              "1            1997             3          17              Puffin      NaN   \n",
              "2            2005             1           1   Benjamin Cummings      eng   \n",
              "3            2006             9           5              Signet      eng   \n",
              "4            2002             5           3  Thomas Dunne Books      NaN   \n",
              "...           ...           ...         ...                 ...      ...   \n",
              "5761         2003             9           1     Ten Speed Press      NaN   \n",
              "5762         2004             9          10       Ellora's Cave      NaN   \n",
              "5763         1999            12          14     Editorial Diana      NaN   \n",
              "5764         1972             6          21      Westview Press      eng   \n",
              "5765         1994             9           1        Conari Press      NaN   \n",
              "\n",
              "      pagesNumber                                        Description  \n",
              "0             118  Distilling the insights of more than 20 years ...  \n",
              "1              32  A surprising turn on a wilderness walk leads t...  \n",
              "2             544  This printed learning aid provides a concept m...  \n",
              "3             432  Lady Mara St. Bride has never backed down from...  \n",
              "4             352  <i>Soul Picnic: The Music and Passion of Laura...  \n",
              "...           ...                                                ...  \n",
              "5761          274  This work details and demystifies 100 magical ...  \n",
              "5762          224  Shifters' Desire - Vampire Fangs and Venom By ...  \n",
              "5763          224  El método Silva de Control Mental es un sistem...  \n",
              "5764          242  <i>Renaissance and Renascences in Western Art<...  \n",
              "5765          192  Little did we know when we published <i>Random...  \n",
              "\n",
              "[5766 rows x 9 columns]"
            ],
            "text/html": [
              "\n",
              "  <div id=\"df-131a1eee-2e25-45af-888d-317eee79a74b\">\n",
              "    <div class=\"colab-df-container\">\n",
              "      <div>\n",
              "<style scoped>\n",
              "    .dataframe tbody tr th:only-of-type {\n",
              "        vertical-align: middle;\n",
              "    }\n",
              "\n",
              "    .dataframe tbody tr th {\n",
              "        vertical-align: top;\n",
              "    }\n",
              "\n",
              "    .dataframe thead th {\n",
              "        text-align: right;\n",
              "    }\n",
              "</style>\n",
              "<table border=\"1\" class=\"dataframe\">\n",
              "  <thead>\n",
              "    <tr style=\"text-align: right;\">\n",
              "      <th></th>\n",
              "      <th>Name</th>\n",
              "      <th>Authors</th>\n",
              "      <th>PublishYear</th>\n",
              "      <th>PublishMonth</th>\n",
              "      <th>PublishDay</th>\n",
              "      <th>Publisher</th>\n",
              "      <th>Language</th>\n",
              "      <th>pagesNumber</th>\n",
              "      <th>Description</th>\n",
              "    </tr>\n",
              "  </thead>\n",
              "  <tbody>\n",
              "    <tr>\n",
              "      <th>0</th>\n",
              "      <td>Near Occasions of Grace</td>\n",
              "      <td>Richard Rohr</td>\n",
              "      <td>1993</td>\n",
              "      <td>1</td>\n",
              "      <td>1</td>\n",
              "      <td>Orbis Books</td>\n",
              "      <td>NaN</td>\n",
              "      <td>118</td>\n",
              "      <td>Distilling the insights of more than 20 years ...</td>\n",
              "    </tr>\n",
              "    <tr>\n",
              "      <th>1</th>\n",
              "      <td>The Perfect Spot</td>\n",
              "      <td>Robert J. Blake</td>\n",
              "      <td>1997</td>\n",
              "      <td>3</td>\n",
              "      <td>17</td>\n",
              "      <td>Puffin</td>\n",
              "      <td>NaN</td>\n",
              "      <td>32</td>\n",
              "      <td>A surprising turn on a wilderness walk leads t...</td>\n",
              "    </tr>\n",
              "    <tr>\n",
              "      <th>2</th>\n",
              "      <td>Study Guide for Campbell Reece Biology</td>\n",
              "      <td>Martha R. Taylor</td>\n",
              "      <td>2005</td>\n",
              "      <td>1</td>\n",
              "      <td>1</td>\n",
              "      <td>Benjamin Cummings</td>\n",
              "      <td>eng</td>\n",
              "      <td>544</td>\n",
              "      <td>This printed learning aid provides a concept m...</td>\n",
              "    </tr>\n",
              "    <tr>\n",
              "      <th>3</th>\n",
              "      <td>To Rescue A Rogue (Company of Rogues, #12)</td>\n",
              "      <td>Jo Beverley</td>\n",
              "      <td>2006</td>\n",
              "      <td>9</td>\n",
              "      <td>5</td>\n",
              "      <td>Signet</td>\n",
              "      <td>eng</td>\n",
              "      <td>432</td>\n",
              "      <td>Lady Mara St. Bride has never backed down from...</td>\n",
              "    </tr>\n",
              "    <tr>\n",
              "      <th>4</th>\n",
              "      <td>Soul Picnic: The Music and Passion of Laura Nyro</td>\n",
              "      <td>Michele Kort</td>\n",
              "      <td>2002</td>\n",
              "      <td>5</td>\n",
              "      <td>3</td>\n",
              "      <td>Thomas Dunne Books</td>\n",
              "      <td>NaN</td>\n",
              "      <td>352</td>\n",
              "      <td>&lt;i&gt;Soul Picnic: The Music and Passion of Laura...</td>\n",
              "    </tr>\n",
              "    <tr>\n",
              "      <th>...</th>\n",
              "      <td>...</td>\n",
              "      <td>...</td>\n",
              "      <td>...</td>\n",
              "      <td>...</td>\n",
              "      <td>...</td>\n",
              "      <td>...</td>\n",
              "      <td>...</td>\n",
              "      <td>...</td>\n",
              "      <td>...</td>\n",
              "    </tr>\n",
              "    <tr>\n",
              "      <th>5761</th>\n",
              "      <td>The Wicca Herbal: Recipes, Magick, and Abundance</td>\n",
              "      <td>Jamie Martinez Wood</td>\n",
              "      <td>2003</td>\n",
              "      <td>9</td>\n",
              "      <td>1</td>\n",
              "      <td>Ten Speed Press</td>\n",
              "      <td>NaN</td>\n",
              "      <td>274</td>\n",
              "      <td>This work details and demystifies 100 magical ...</td>\n",
              "    </tr>\n",
              "    <tr>\n",
              "      <th>5762</th>\n",
              "      <td>Shifter's Desire: Vampire Fangs &amp; Venom</td>\n",
              "      <td>Myra Nour</td>\n",
              "      <td>2004</td>\n",
              "      <td>9</td>\n",
              "      <td>10</td>\n",
              "      <td>Ellora's Cave</td>\n",
              "      <td>NaN</td>\n",
              "      <td>224</td>\n",
              "      <td>Shifters' Desire - Vampire Fangs and Venom By ...</td>\n",
              "    </tr>\n",
              "    <tr>\n",
              "      <th>5763</th>\n",
              "      <td>El Metodo Silva de Control Mental</td>\n",
              "      <td>José Silva</td>\n",
              "      <td>1999</td>\n",
              "      <td>12</td>\n",
              "      <td>14</td>\n",
              "      <td>Editorial Diana</td>\n",
              "      <td>NaN</td>\n",
              "      <td>224</td>\n",
              "      <td>El método Silva de Control Mental es un sistem...</td>\n",
              "    </tr>\n",
              "    <tr>\n",
              "      <th>5764</th>\n",
              "      <td>Renaissance and Renascences in Western Art</td>\n",
              "      <td>Erwin Panofsky</td>\n",
              "      <td>1972</td>\n",
              "      <td>6</td>\n",
              "      <td>21</td>\n",
              "      <td>Westview Press</td>\n",
              "      <td>eng</td>\n",
              "      <td>242</td>\n",
              "      <td>&lt;i&gt;Renaissance and Renascences in Western Art&lt;...</td>\n",
              "    </tr>\n",
              "    <tr>\n",
              "      <th>5765</th>\n",
              "      <td>More Random Acts of Kindness</td>\n",
              "      <td>Conari Press</td>\n",
              "      <td>1994</td>\n",
              "      <td>9</td>\n",
              "      <td>1</td>\n",
              "      <td>Conari Press</td>\n",
              "      <td>NaN</td>\n",
              "      <td>192</td>\n",
              "      <td>Little did we know when we published &lt;i&gt;Random...</td>\n",
              "    </tr>\n",
              "  </tbody>\n",
              "</table>\n",
              "<p>5766 rows × 9 columns</p>\n",
              "</div>\n",
              "      <button class=\"colab-df-convert\" onclick=\"convertToInteractive('df-131a1eee-2e25-45af-888d-317eee79a74b')\"\n",
              "              title=\"Convert this dataframe to an interactive table.\"\n",
              "              style=\"display:none;\">\n",
              "        \n",
              "  <svg xmlns=\"http://www.w3.org/2000/svg\" height=\"24px\"viewBox=\"0 0 24 24\"\n",
              "       width=\"24px\">\n",
              "    <path d=\"M0 0h24v24H0V0z\" fill=\"none\"/>\n",
              "    <path d=\"M18.56 5.44l.94 2.06.94-2.06 2.06-.94-2.06-.94-.94-2.06-.94 2.06-2.06.94zm-11 1L8.5 8.5l.94-2.06 2.06-.94-2.06-.94L8.5 2.5l-.94 2.06-2.06.94zm10 10l.94 2.06.94-2.06 2.06-.94-2.06-.94-.94-2.06-.94 2.06-2.06.94z\"/><path d=\"M17.41 7.96l-1.37-1.37c-.4-.4-.92-.59-1.43-.59-.52 0-1.04.2-1.43.59L10.3 9.45l-7.72 7.72c-.78.78-.78 2.05 0 2.83L4 21.41c.39.39.9.59 1.41.59.51 0 1.02-.2 1.41-.59l7.78-7.78 2.81-2.81c.8-.78.8-2.07 0-2.86zM5.41 20L4 18.59l7.72-7.72 1.47 1.35L5.41 20z\"/>\n",
              "  </svg>\n",
              "      </button>\n",
              "      \n",
              "  <style>\n",
              "    .colab-df-container {\n",
              "      display:flex;\n",
              "      flex-wrap:wrap;\n",
              "      gap: 12px;\n",
              "    }\n",
              "\n",
              "    .colab-df-convert {\n",
              "      background-color: #E8F0FE;\n",
              "      border: none;\n",
              "      border-radius: 50%;\n",
              "      cursor: pointer;\n",
              "      display: none;\n",
              "      fill: #1967D2;\n",
              "      height: 32px;\n",
              "      padding: 0 0 0 0;\n",
              "      width: 32px;\n",
              "    }\n",
              "\n",
              "    .colab-df-convert:hover {\n",
              "      background-color: #E2EBFA;\n",
              "      box-shadow: 0px 1px 2px rgba(60, 64, 67, 0.3), 0px 1px 3px 1px rgba(60, 64, 67, 0.15);\n",
              "      fill: #174EA6;\n",
              "    }\n",
              "\n",
              "    [theme=dark] .colab-df-convert {\n",
              "      background-color: #3B4455;\n",
              "      fill: #D2E3FC;\n",
              "    }\n",
              "\n",
              "    [theme=dark] .colab-df-convert:hover {\n",
              "      background-color: #434B5C;\n",
              "      box-shadow: 0px 1px 3px 1px rgba(0, 0, 0, 0.15);\n",
              "      filter: drop-shadow(0px 1px 2px rgba(0, 0, 0, 0.3));\n",
              "      fill: #FFFFFF;\n",
              "    }\n",
              "  </style>\n",
              "\n",
              "      <script>\n",
              "        const buttonEl =\n",
              "          document.querySelector('#df-131a1eee-2e25-45af-888d-317eee79a74b button.colab-df-convert');\n",
              "        buttonEl.style.display =\n",
              "          google.colab.kernel.accessAllowed ? 'block' : 'none';\n",
              "\n",
              "        async function convertToInteractive(key) {\n",
              "          const element = document.querySelector('#df-131a1eee-2e25-45af-888d-317eee79a74b');\n",
              "          const dataTable =\n",
              "            await google.colab.kernel.invokeFunction('convertToInteractive',\n",
              "                                                     [key], {});\n",
              "          if (!dataTable) return;\n",
              "\n",
              "          const docLinkHtml = 'Like what you see? Visit the ' +\n",
              "            '<a target=\"_blank\" href=https://colab.research.google.com/notebooks/data_table.ipynb>data table notebook</a>'\n",
              "            + ' to learn more about interactive tables.';\n",
              "          element.innerHTML = '';\n",
              "          dataTable['output_type'] = 'display_data';\n",
              "          await google.colab.output.renderOutput(dataTable, element);\n",
              "          const docLink = document.createElement('div');\n",
              "          docLink.innerHTML = docLinkHtml;\n",
              "          element.appendChild(docLink);\n",
              "        }\n",
              "      </script>\n",
              "    </div>\n",
              "  </div>\n",
              "  "
            ]
          },
          "metadata": {},
          "execution_count": 13
        }
      ],
      "source": [
        "df = pd.read_csv(\"book_rating_train.csv\")\n",
        "testdf = pd.read_csv(\"book_rating_test.csv\")\n",
        "testdf"
      ],
      "id": "ef574555"
    },
    {
      "cell_type": "code",
      "execution_count": null,
      "metadata": {
        "id": "888b655f"
      },
      "outputs": [],
      "source": [
        "train_name = pd.read_csv(r\"./book_text_features_doc2vec/train_name_doc2vec100.csv\", index_col = False, delimiter = ',', header=None)\n",
        "train_desc = pd.read_csv(r\"./book_text_features_doc2vec/train_desc_doc2vec100.csv\", index_col = False, delimiter = ',', header=None)\n",
        "train_author = pd.read_csv(r\"./book_text_features_doc2vec/train_authors_doc2vec20.csv\", index_col = False, delimiter = ',', header=None)\n",
        "\n",
        "\n",
        "test_name = pd.read_csv(r\"./book_text_features_doc2vec/test_name_doc2vec100.csv\", index_col = False, delimiter = ',', header=None)\n",
        "test_desc = pd.read_csv(r\"./book_text_features_doc2vec/test_desc_doc2vec100.csv\", index_col = False, delimiter = ',', header=None)\n",
        "test_author = pd.read_csv(r\"./book_text_features_doc2vec/test_authors_doc2vec20.csv\", index_col = False, delimiter = ',', header=None)\n"
      ],
      "id": "888b655f"
    },
    {
      "cell_type": "code",
      "execution_count": null,
      "metadata": {
        "colab": {
          "base_uri": "https://localhost:8080/"
        },
        "id": "657453f5",
        "outputId": "a38c7dca-f20a-4882-d11e-d78152271b4d"
      },
      "outputs": [
        {
          "output_type": "stream",
          "name": "stdout",
          "text": [
            "(23063, 100) (23063, 100) (23063, 20)\n",
            "(5766, 100) (5766, 100) (5766, 20)\n"
          ]
        }
      ],
      "source": [
        "print(train_name.shape, train_desc.shape, train_author.shape)\n",
        "print(test_name.shape, test_desc.shape, test_author.shape)"
      ],
      "id": "657453f5"
    },
    {
      "cell_type": "code",
      "execution_count": null,
      "metadata": {
        "id": "403ea61b",
        "outputId": "36843e01-6f88-47f1-ac20-c7917efbb6e2",
        "colab": {
          "base_uri": "https://localhost:8080/"
        }
      },
      "outputs": [
        {
          "output_type": "stream",
          "name": "stdout",
          "text": [
            "(23063, 220) (5766, 220)\n",
            "(23063, 2) (5766, 2)\n",
            "(23063, 222) (5766, 222)\n"
          ]
        }
      ],
      "source": [
        "train_df = pd.concat([train_desc, train_name, train_author], axis = 1)\n",
        "test_df = pd.concat([test_desc, test_name, test_author], axis = 1)\n",
        "\n",
        "# final_scaler = StandardScaler()\n",
        "# train_df = final_scaler.fit_transform(train_df)\n",
        "# test_df = final_scaler.transform(test_df)\n",
        "print(train_df.shape, test_df.shape)\n",
        "print(num_df.shape, num_df_test.shape)\n",
        "train_df = np.concatenate((train_df, num_df), axis = 1)\n",
        "test_df = np.concatenate((test_df, num_df_test), axis = 1)\n",
        "\n",
        "print(train_df.shape, test_df.shape)\n",
        "\n",
        "# rf_doc = RandomForestClassifier(n_estimators=100, random_state=42)\n",
        "# rf_doc.fit(train_df, df['rating_label'])\n",
        "# joblib.dump(rf_doc, \"./random_forest_doc.joblib\")"
      ],
      "id": "403ea61b"
    },
    {
      "cell_type": "code",
      "source": [
        "rfc = RandomForestClassifier(random_state = 42, n_estimators = 100)\n",
        "rfc.fit(train_df, train_df_orig['rating_label'])\n",
        "joblib.dump(rfc, f\"./full_dataset/rf_docvec.joblib\")"
      ],
      "metadata": {
        "colab": {
          "base_uri": "https://localhost:8080/"
        },
        "id": "afmY_UZ6gRU7",
        "outputId": "10aa1d6b-50b6-4728-efce-e4ea817c076d"
      },
      "id": "afmY_UZ6gRU7",
      "execution_count": null,
      "outputs": [
        {
          "output_type": "execute_result",
          "data": {
            "text/plain": [
              "['./full_dataset/rf_docvec.joblib']"
            ]
          },
          "metadata": {},
          "execution_count": 24
        }
      ]
    },
    {
      "cell_type": "markdown",
      "metadata": {
        "id": "11a85bca"
      },
      "source": [
        "# Evaluation printing"
      ],
      "id": "11a85bca"
    },
    {
      "cell_type": "code",
      "execution_count": null,
      "metadata": {
        "colab": {
          "base_uri": "https://localhost:8080/"
        },
        "id": "f3bfa484",
        "outputId": "b1bae26f-960d-4e8e-fd0b-2527bbdcc45d"
      },
      "outputs": [
        {
          "output_type": "stream",
          "name": "stdout",
          "text": [
            "[3. 4.]\n",
            "4.0    5750\n",
            "3.0      16\n",
            "dtype: int64\n"
          ]
        },
        {
          "output_type": "execute_result",
          "data": {
            "text/plain": [
              "array([4., 4., 4., ..., 4., 4., 4.])"
            ]
          },
          "metadata": {},
          "execution_count": 26
        }
      ],
      "source": [
        "\n",
        "def evaluate(classifier, test_df = test_df, label_encoder = None, write_csv = True):\n",
        "  y_pred = classifier.predict(test_df)\n",
        "  if label_encoder:\n",
        "    y_pred = classifier.predict(final_scaler.transform(test_df))\n",
        "    y_pred = label_encoder.inverse_transform(y_pred)\n",
        "  def info(y_pred):\n",
        "    print(np.unique(y_pred))\n",
        "    print(pd.DataFrame(y_pred).value_counts())\n",
        "\n",
        "  if write_csv: \n",
        "    # write in the csv file\n",
        "    with open('output.csv', 'w', newline='') as csvfile:\n",
        "        writer = csv.writer(csvfile)\n",
        "        writer.writerow(['id', 'rating_label'])\n",
        "        for i, rating in enumerate(y_pred):\n",
        "            writer.writerow([i+1, rating])\n",
        "\n",
        "  info(y_pred)\n",
        "  return y_pred\n",
        "\n",
        "\n",
        "evaluate(rfc, test_df = test_df, write_csv = True)"
      ],
      "id": "f3bfa484"
    },
    {
      "cell_type": "code",
      "execution_count": null,
      "metadata": {
        "colab": {
          "base_uri": "https://localhost:8080/"
        },
        "id": "21758398",
        "outputId": "5607e884-55be-4284-8c6c-acc391545c81"
      },
      "outputs": [
        {
          "data": {
            "text/plain": [
              "4.0    5371\n",
              "3.0     389\n",
              "5.0       6\n",
              "dtype: int64"
            ]
          },
          "execution_count": 43,
          "metadata": {},
          "output_type": "execute_result"
        }
      ],
      "source": [
        "pd.DataFrame(y_pred).value_counts()"
      ],
      "id": "21758398"
    },
    {
      "cell_type": "code",
      "execution_count": null,
      "metadata": {
        "colab": {
          "base_uri": "https://localhost:8080/"
        },
        "id": "6G5JNSJ_MU9W",
        "outputId": "d70bcf96-df3b-4d8a-ee90-20760199bdc4"
      },
      "outputs": [
        {
          "data": {
            "text/plain": [
              "4.0    16208\n",
              "3.0     5864\n",
              "5.0      991\n",
              "Name: rating_label, dtype: int64"
            ]
          },
          "execution_count": 44,
          "metadata": {},
          "output_type": "execute_result"
        }
      ],
      "source": [
        "df = pd.read_csv(\"book_rating_train.csv\")\n",
        "df['rating_label'].value_counts()"
      ],
      "id": "6G5JNSJ_MU9W"
    },
    {
      "cell_type": "code",
      "execution_count": null,
      "metadata": {
        "id": "nMEOWKewQx10"
      },
      "outputs": [],
      "source": [],
      "id": "nMEOWKewQx10"
    }
  ],
  "metadata": {
    "colab": {
      "collapsed_sections": [
        "-oAi54kqDbJM",
        "d25161c9",
        "myF4psPIJZbr",
        "l9NBEnfjsGZT",
        "AI3-uzoeUd_v",
        "8Y0tMZ59u1_A",
        "Q0STrKt3Jd_k",
        "d3ff7d69",
        "11a85bca"
      ],
      "provenance": [],
      "gpuType": "T4"
    },
    "kernelspec": {
      "display_name": "Python 3 (ipykernel)",
      "language": "python",
      "name": "python3"
    },
    "language_info": {
      "codemirror_mode": {
        "name": "ipython",
        "version": 3
      },
      "file_extension": ".py",
      "mimetype": "text/x-python",
      "name": "python",
      "nbconvert_exporter": "python",
      "pygments_lexer": "ipython3",
      "version": "3.9.15"
    },
    "gpuClass": "standard"
  },
  "nbformat": 4,
  "nbformat_minor": 5
}